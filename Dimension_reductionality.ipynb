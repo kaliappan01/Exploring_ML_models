{
  "nbformat": 4,
  "nbformat_minor": 0,
  "metadata": {
    "colab": {
      "name": "Dimension_reductionality.ipynb",
      "provenance": [],
      "collapsed_sections": [],
      "authorship_tag": "ABX9TyNR4mVq2oNGzdPt+iFVNhZ0",
      "include_colab_link": true
    },
    "kernelspec": {
      "name": "python3",
      "display_name": "Python 3"
    },
    "language_info": {
      "name": "python"
    }
  },
  "cells": [
    {
      "cell_type": "markdown",
      "metadata": {
        "id": "view-in-github",
        "colab_type": "text"
      },
      "source": [
        "<a href=\"https://colab.research.google.com/github/kaliappan01/Exploring_ML_models/blob/main/Dimension_reductionality.ipynb\" target=\"_parent\"><img src=\"https://colab.research.google.com/assets/colab-badge.svg\" alt=\"Open In Colab\"/></a>"
      ]
    },
    {
      "cell_type": "markdown",
      "metadata": {
        "id": "pClwPmFQ4Nwj"
      },
      "source": [
        "**Dimensionality Reduction** is simply reducing the number of features (columns) while retaining maximum information.  \n",
        "Advantages \n",
        "- Reduction in computation cost & storage\n",
        "- Removes redundunt features"
      ]
    },
    {
      "cell_type": "code",
      "metadata": {
        "id": "pzSytwRkbNWC"
      },
      "source": [
        "from sklearn.decomposition import PCA\n",
        "from sklearn.manifold import TSNE,Isomap\n",
        "import matplotlib.pyplot as plt\n",
        "from sklearn.datasets import fetch_lfw_people\n",
        "from sklearn.metrics import accuracy_score,homogeneity_score, completeness_score\n",
        "import seaborn as sns\n",
        "import numpy as np\n",
        "\n",
        "%matplotlib inline"
      ],
      "execution_count": 1,
      "outputs": []
    },
    {
      "cell_type": "code",
      "metadata": {
        "colab": {
          "base_uri": "https://localhost:8080/"
        },
        "id": "mKzS7DR3cX9H",
        "outputId": "edec57a1-15ec-4b5e-e550-0ad112a53a7d"
      },
      "source": [
        "people = fetch_lfw_people(min_faces_per_person = 20,resize = 0.7)\n",
        "print(people.DESCR) "
      ],
      "execution_count": null,
      "outputs": [
        {
          "output_type": "stream",
          "text": [
            "Downloading LFW metadata: https://ndownloader.figshare.com/files/5976012\n",
            "Downloading LFW metadata: https://ndownloader.figshare.com/files/5976009\n"
          ],
          "name": "stderr"
        }
      ]
    },
    {
      "cell_type": "code",
      "metadata": {
        "id": "_t0XQleldOjA"
      },
      "source": [
        "img_shape = people.images[0].shape "
      ],
      "execution_count": null,
      "outputs": []
    },
    {
      "cell_type": "code",
      "metadata": {
        "id": "iejUhf4Zf6BR"
      },
      "source": [
        "people.images.shape"
      ],
      "execution_count": null,
      "outputs": []
    },
    {
      "cell_type": "code",
      "metadata": {
        "id": "TbAF4zSOcYGk"
      },
      "source": [
        "people.target_names[people.target[0]]"
      ],
      "execution_count": null,
      "outputs": []
    },
    {
      "cell_type": "code",
      "metadata": {
        "id": "FNUJ2w5OcYQZ"
      },
      "source": [
        "fig, axes = plt.subplots(3,5,figsize = (15, 8),subplot_kw=dict(xticks=[],yticks=[]))\n",
        "for target, image, ax in zip(people.target, people.images, axes.ravel()):\n",
        "  ax.imshow(image, cmap=\"gray\")\n",
        "  ax.set_title(people.target_names[target])"
      ],
      "execution_count": null,
      "outputs": []
    },
    {
      "cell_type": "code",
      "metadata": {
        "id": "DK_7-OV4cYX7"
      },
      "source": [
        "counts = np.bincount(people.target)\n",
        "for i, (count, name) in enumerate(zip(people.target_names,counts)):\n",
        "  print(\"{0:25} {1:3}\".format(name,count),end = ' ')\n",
        "  if (i+1)%3 ==0:\n",
        "    print()"
      ],
      "execution_count": null,
      "outputs": []
    },
    {
      "cell_type": "code",
      "metadata": {
        "id": "zdJAV-jMcYdU"
      },
      "source": [
        "pca = PCA(n_components = 150).fit(people.data)\n",
        "plt.plot(np.cumsum(pca.explained_variance_ratio_))\n",
        "plt.xlabel(\"N components\")\n",
        "plt.ylabel(\"Cumulative variance\")"
      ],
      "execution_count": null,
      "outputs": []
    },
    {
      "cell_type": "markdown",
      "metadata": {
        "id": "RrwbJP723yJk"
      },
      "source": [
        "Principal Component Analysis\n",
        "- This technique uses eigen values & eigen vectors to filter out the components which account for the maximum variance in the data\n",
        "- Alternatively uses SVD(single value decomposition)"
      ]
    },
    {
      "cell_type": "code",
      "metadata": {
        "id": "Rngk2ehXcYif"
      },
      "source": [
        "pca_n100 = PCA(n_components = 100, whiten = True, random_state = True)\n",
        "data_scaled = people.data/255\n",
        "data_pca = pca_n100.fit_transform(data_scaled)"
      ],
      "execution_count": null,
      "outputs": []
    },
    {
      "cell_type": "code",
      "metadata": {
        "id": "kpZpJx0AgmXA"
      },
      "source": [
        "images_retransformed= pca_n100.inverse_transform(data_pca)\n",
        "images_rescaled = images_retransformed*255\n",
        "images_recovered = [image.reshape(img_shape) for image in images_rescaled]"
      ],
      "execution_count": null,
      "outputs": []
    },
    {
      "cell_type": "markdown",
      "metadata": {
        "id": "FaC2FTjeyh70"
      },
      "source": [
        "The  PCA transformation is reversible  \n",
        "We attempt to recreate the images from their reduced version"
      ]
    },
    {
      "cell_type": "code",
      "metadata": {
        "id": "OOIATxl0cYnM"
      },
      "source": [
        "fig, axes = plt.subplots(3,5,figsize = (15, 8),subplot_kw=dict(xticks=[],yticks=[]))\n",
        "for target, image, ax in zip(people.target, images_recovered, axes.ravel()):\n",
        "  ax.imshow(image, cmap=\"gray\")\n",
        "  ax.set_title(people.target_names[target])"
      ],
      "execution_count": null,
      "outputs": []
    },
    {
      "cell_type": "markdown",
      "metadata": {
        "id": "lXS6KOphyeiz"
      },
      "source": [
        "We observe that the recreated images have lower resolution\n",
        "These are images are recreated from the 100 components which account to nearly 90% of the data variance \n",
        "The extra components are discarded by PCA so they are lost in this technique of dimension reductionality"
      ]
    },
    {
      "cell_type": "code",
      "metadata": {
        "id": "284VITWWip8l"
      },
      "source": [
        "tsne = TSNE(random_state = 42)\n",
        "img_tsne = tsne.fit_transform(people.data)"
      ],
      "execution_count": null,
      "outputs": []
    },
    {
      "cell_type": "markdown",
      "metadata": {
        "id": "l48VL70k2F2F"
      },
      "source": [
        "**t - Distributed Stochaistic Neighbor Embedding**  \n",
        "- In this method the dimensions are reduced to 2\n",
        "- Attempts to find a 2-D representation of the data that preserves the distance between the data points as best as possible"
      ]
    },
    {
      "cell_type": "code",
      "metadata": {
        "id": "OWlEqdbtip_Y"
      },
      "source": [
        "img_tsne.shape"
      ],
      "execution_count": null,
      "outputs": []
    },
    {
      "cell_type": "code",
      "metadata": {
        "id": "uqKdTl8UiqCT"
      },
      "source": [
        "def display_2d_component_names(model, selected,dataobj):\n",
        "  colors = [\"#2F4F4F\",\"#8B008B\",\"#7FFF00\",\"#00FFFF\",\"#00FF7F\",\"#FF00FF\",\"#FF0000\",\"#FF1493\"\n",
        "  ,\"#8A2BE2\",\"#7FFFD4\",\"#D2691E\t\"]\n",
        "  plt.figure(figsize=(14,14))\n",
        "  plt.xlim(model[:,0].min(),model[:,0].max()+1)\n",
        "  plt.ylim(model[:,1].min(),model[:,1].max()+1)\n",
        "  for i in range(len(dataobj.data)):\n",
        "    cindex = dataobj.target[i]%len(selected)\n",
        "    if dataobj.target[i] not in selected:\n",
        "      continue\n",
        "    plt.text(model[i,0],model[i,1],str(dataobj.target_names[dataobj.target[i]]),color = colors[cindex],fontdict = {'weight':'bold','size':9})"
      ],
      "execution_count": null,
      "outputs": []
    },
    {
      "cell_type": "code",
      "metadata": {
        "id": "aWH2yPGxn9pw"
      },
      "source": [
        "display_2d_component_names(img_tsne,(4,1),people)"
      ],
      "execution_count": null,
      "outputs": []
    },
    {
      "cell_type": "code",
      "metadata": {
        "id": "DNlxoyB_iqFG"
      },
      "source": [
        "iso =Isomap(n_components = 2)\n",
        "img_iso = iso.fit_transform(people.data)"
      ],
      "execution_count": null,
      "outputs": []
    },
    {
      "cell_type": "markdown",
      "metadata": {
        "id": "fUeohoPe21aP"
      },
      "source": [
        "**ISOMAP**  \n",
        "- This is a graph based technique\n",
        "- Connects each instance to its K-nearest neighbor\n",
        "- Uses Djisktra algorithmn to calculate the shortest distance between datapoints to assign clusters"
      ]
    },
    {
      "cell_type": "code",
      "metadata": {
        "id": "ogtrwe0IoZZf"
      },
      "source": [
        "display_2d_component_names(img_iso,(4,1),people)"
      ],
      "execution_count": null,
      "outputs": []
    },
    {
      "cell_type": "markdown",
      "metadata": {
        "id": "20rrwvTDpchN"
      },
      "source": [
        "MNIST DIGITS DATASET"
      ]
    },
    {
      "cell_type": "code",
      "metadata": {
        "id": "-K25aOlDiqHs"
      },
      "source": [
        "from sklearn.datasets import load_digits\n",
        "\n",
        "digits_data = load_digits()\n",
        "print(digits_data.DESCR)"
      ],
      "execution_count": null,
      "outputs": []
    },
    {
      "cell_type": "code",
      "metadata": {
        "id": "J9YVcqWriqKf"
      },
      "source": [
        "fig,axes = plt.subplots(2,5,figsize = (10,10),subplot_kw=dict(xticks=[],yticks=[]))\n",
        "for img,ax in zip(digits_data.images,axes.ravel()):\n",
        "  ax.imshow(img,cmap=\"gray\")"
      ],
      "execution_count": null,
      "outputs": []
    },
    {
      "cell_type": "code",
      "metadata": {
        "id": "WrvbGydZiqNd"
      },
      "source": [
        "pca_mnist = PCA(n_components = 2)\n",
        "pca_mnist.fit(digits_data.data)\n",
        "digits_pca = pca_mnist.transform(digits_data.data)\n",
        "display_2d_component_names(digits_pca, (0,1,2,3,4,5,6,7,8,9),digits_data)"
      ],
      "execution_count": null,
      "outputs": []
    },
    {
      "cell_type": "code",
      "metadata": {
        "id": "f9gyOhZqs3mD"
      },
      "source": [
        "from sklearn.cluster import KMeans\n",
        "kmeans1 = KMeans(n_clusters = 10)\n",
        "pca_pred = kmeans1.fit_predict(digits_pca)"
      ],
      "execution_count": null,
      "outputs": []
    },
    {
      "cell_type": "code",
      "metadata": {
        "id": "8PXDvNxQouJV"
      },
      "source": [
        "from scipy.stats import mode\n",
        "def cluster_accuracy(target, clusters, numClasses):\n",
        "  labels = np.zeros_like(clusters)\n",
        "  for i in range(numClasses):\n",
        "    mask = (clusters == i)\n",
        "    labels[mask] = mode(target[mask])[0]\n",
        "  print(\"Accuracy Score : {} \\nHomogeneity Score : {}\\nCompleteness Score : {}\".format(accuracy_score(target, labels),homogeneity_score(target, labels),completeness_score(target, labels)))\n",
        "  # return accuracy_score(target, labels),homogeneity_score(target, labels),completeness_score(target, labels)"
      ],
      "execution_count": null,
      "outputs": []
    },
    {
      "cell_type": "code",
      "metadata": {
        "id": "pdSl4c3utf_y"
      },
      "source": [
        "cluster_accuracy(digits_data.target,pca_pred,10)"
      ],
      "execution_count": null,
      "outputs": []
    },
    {
      "cell_type": "code",
      "metadata": {
        "id": "PbnDN7DbiqP3"
      },
      "source": [
        "tsne_mnist = TSNE(random_state=42)\n",
        "digits_tsne = tsne_mnist.fit_transform(digits_data.data)\n",
        "display_2d_component_names(digits_tsne,(0,1,2,3,4,5,6,7,8,9),digits_data)"
      ],
      "execution_count": null,
      "outputs": []
    },
    {
      "cell_type": "code",
      "metadata": {
        "id": "n6EHwIqbukVn"
      },
      "source": [
        "kmeans2 = KMeans(n_clusters = 10)\n",
        "tsne_pred = kmeans2.fit_predict(digits_tsne)"
      ],
      "execution_count": null,
      "outputs": []
    },
    {
      "cell_type": "code",
      "metadata": {
        "id": "h-pmnHnzuytx"
      },
      "source": [
        "cluster_accuracy(digits_data.target,tsne_pred,10)"
      ],
      "execution_count": null,
      "outputs": []
    },
    {
      "cell_type": "code",
      "metadata": {
        "id": "nT4IKSzLiqSc"
      },
      "source": [
        "iso_mnist = Isomap(n_components = 2)\n",
        "digits_iso = iso_mnist.fit_transform(digits_data.data)\n",
        "display_2d_component_names(digits_iso,(0,1,2,3,4,5,6,7,8,9),digits_data)"
      ],
      "execution_count": null,
      "outputs": []
    },
    {
      "cell_type": "code",
      "metadata": {
        "id": "tw6o38vZu6Xl"
      },
      "source": [
        "kmeans3 = KMeans(n_clusters = 10)\n",
        "iso_pred = kmeans3.fit_predict(digits_iso)"
      ],
      "execution_count": null,
      "outputs": []
    },
    {
      "cell_type": "code",
      "metadata": {
        "id": "u50uDMtnu6bD"
      },
      "source": [
        "cluster_accuracy(digits_data.target,iso_pred,10)"
      ],
      "execution_count": null,
      "outputs": []
    }
  ]
}