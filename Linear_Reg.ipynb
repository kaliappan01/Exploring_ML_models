{
  "nbformat": 4,
  "nbformat_minor": 0,
  "metadata": {
    "colab": {
      "name": "Linear_Reg.ipynb",
      "provenance": [],
      "authorship_tag": "ABX9TyMBKOSVibzyao05iN2cIK0z",
      "include_colab_link": true
    },
    "kernelspec": {
      "name": "python3",
      "display_name": "Python 3"
    },
    "language_info": {
      "name": "python"
    }
  },
  "cells": [
    {
      "cell_type": "markdown",
      "metadata": {
        "id": "view-in-github",
        "colab_type": "text"
      },
      "source": [
        "<a href=\"https://colab.research.google.com/github/kaliappan01/Exploring_ML_models/blob/main/Linear_Reg.ipynb\" target=\"_parent\"><img src=\"https://colab.research.google.com/assets/colab-badge.svg\" alt=\"Open In Colab\"/></a>"
      ]
    },
    {
      "cell_type": "code",
      "metadata": {
        "id": "Fcup4F902ItL"
      },
      "source": [
        "from sklearn.linear_model import LinearRegression\n",
        "from sklearn.model_selection import train_test_split\n",
        "from sklearn.metrics import confusion_matrix,classification_report\n",
        "import numpy as np\n",
        "import pandas as pd\n",
        "import seaborn as sns"
      ],
      "execution_count": 18,
      "outputs": []
    },
    {
      "cell_type": "markdown",
      "metadata": {
        "id": "Du3K8avm4O13"
      },
      "source": [
        "RandomState exposes a number of methods for generating random numbers drawn from a variety of probability distributions.  \n",
        "https://docs.scipy.org/doc/numpy-1.15.1/reference/generated/numpy.random.RandomState.html#numpy.random.RandomState"
      ]
    },
    {
      "cell_type": "code",
      "metadata": {
        "id": "y2Mqcz9U2__c"
      },
      "source": [
        "random_state = np.random.RandomState(42)\n",
        "X = random_state.rand(400,2)   ##  Random values in a given shape.\n",
        "X"
      ],
      "execution_count": null,
      "outputs": []
    },
    {
      "cell_type": "code",
      "metadata": {
        "id": "jSu-54PU4cYK"
      },
      "source": [
        "y = 4*X[:,0] + 3.2*X[:,1] -5\n",
        "y"
      ],
      "execution_count": null,
      "outputs": []
    },
    {
      "cell_type": "code",
      "metadata": {
        "id": "F24G918r4puK"
      },
      "source": [
        "X_train,X_test,y_train,y_test = train_test_split(X,y,random_state=random_state)"
      ],
      "execution_count": 46,
      "outputs": []
    },
    {
      "cell_type": "code",
      "metadata": {
        "id": "wZCSehZf7YIJ"
      },
      "source": [
        "lin_reg = LinearRegression(fit_intercept=True)\n",
        "lin_reg.fit(X_train,y_train)\n",
        "pred = lin_reg.predict(X_test)"
      ],
      "execution_count": 47,
      "outputs": []
    },
    {
      "cell_type": "code",
      "metadata": {
        "colab": {
          "base_uri": "https://localhost:8080/"
        },
        "id": "Etrlf71sZFGi",
        "outputId": "9e2b21f7-39c5-4bd6-b974-de0ba0ce710f"
      },
      "source": [
        "lin_reg.score(X_test,y_test)"
      ],
      "execution_count": 48,
      "outputs": [
        {
          "output_type": "execute_result",
          "data": {
            "text/plain": [
              "1.0"
            ]
          },
          "metadata": {
            "tags": []
          },
          "execution_count": 48
        }
      ]
    },
    {
      "cell_type": "code",
      "metadata": {
        "colab": {
          "base_uri": "https://localhost:8080/"
        },
        "id": "CQ06_NuC7jzC",
        "outputId": "a2487ba8-5d54-487b-8df4-ce99b17eac9d"
      },
      "source": [
        "lin_reg.coef_"
      ],
      "execution_count": 49,
      "outputs": [
        {
          "output_type": "execute_result",
          "data": {
            "text/plain": [
              "array([4. , 3.2])"
            ]
          },
          "metadata": {
            "tags": []
          },
          "execution_count": 49
        }
      ]
    },
    {
      "cell_type": "code",
      "metadata": {
        "colab": {
          "base_uri": "https://localhost:8080/",
          "height": 282
        },
        "id": "OInoyr3z73f4",
        "outputId": "56e9c922-64fc-46d5-a478-ff2b5c5ab0dd"
      },
      "source": [
        "sns.scatterplot(x=X[:,0],y=y)"
      ],
      "execution_count": 50,
      "outputs": [
        {
          "output_type": "execute_result",
          "data": {
            "text/plain": [
              "<matplotlib.axes._subplots.AxesSubplot at 0x7f310b88ea10>"
            ]
          },
          "metadata": {
            "tags": []
          },
          "execution_count": 50
        },
        {
          "output_type": "display_data",
          "data": {
            "image/png": "[encoded data removed]",
            "text/plain": [
              "<Figure size 432x288 with 1 Axes>"
            ]
          },
          "metadata": {
            "tags": [],
            "needs_background": "light"
          }
        }
      ]
    },
    {
      "cell_type": "markdown",
      "metadata": {
        "id": "bIWRq5odMOhI"
      },
      "source": [
        "Estimation of Parameters"
      ]
    },
    {
      "cell_type": "code",
      "metadata": {
        "id": "30hAglBAMO2F"
      },
      "source": [
        "from scipy.optimize import minimize\n",
        "import time\n",
        "import scipy.stats as stats"
      ],
      "execution_count": 27,
      "outputs": []
    },
    {
      "cell_type": "code",
      "metadata": {
        "id": "3tnVQREHOVve"
      },
      "source": [
        "x = np.linspace(1,201,num=200)\n",
        "y = - 4 + 3.5*x + np.random.normal(0,5,200)"
      ],
      "execution_count": 35,
      "outputs": []
    },
    {
      "cell_type": "code",
      "metadata": {
        "colab": {
          "base_uri": "https://localhost:8080/"
        },
        "id": "TslI3fV5MO46",
        "outputId": "3d9801f8-6a66-42c0-ae4f-773d3182c82a"
      },
      "source": [
        "def regressLL(params):\n",
        "  b0 = params[0]\n",
        "  b1 = params[1]\n",
        "  sd = params[2]\n",
        "  yPred = b0 + b1*x\n",
        "  loglikelihood = -np.sum(stats.norm.logpdf(y, loc = yPred, scale = sd))\n",
        "  return loglikelihood\n",
        "initParams = [1, 1, 1]\n",
        "results = minimize(regressLL, initParams, method = 'nelder-mead')\n",
        "print(results.x)"
      ],
      "execution_count": 36,
      "outputs": [
        {
          "output_type": "stream",
          "text": [
            "[-3.43392     3.49276457  5.23440607]\n"
          ],
          "name": "stdout"
        }
      ]
    }
  ]
}