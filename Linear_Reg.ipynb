{
  "nbformat": 4,
  "nbformat_minor": 0,
  "metadata": {
    "colab": {
      "name": "Linear_Reg.ipynb",
      "provenance": [],
      "authorship_tag": "ABX9TyO7dhUvZkjz4mAbSYo5pK7c",
      "include_colab_link": true
    },
    "kernelspec": {
      "name": "python3",
      "display_name": "Python 3"
    },
    "language_info": {
      "name": "python"
    }
  },
  "cells": [
    {
      "cell_type": "markdown",
      "metadata": {
        "id": "view-in-github",
        "colab_type": "text"
      },
      "source": [
        "<a href=\"https://colab.research.google.com/github/kaliappan01/Exploring_ML_models/blob/main/Linear_Reg.ipynb\" target=\"_parent\"><img src=\"https://colab.research.google.com/assets/colab-badge.svg\" alt=\"Open In Colab\"/></a>"
      ]
    },
    {
      "cell_type": "code",
      "metadata": {
        "id": "Fcup4F902ItL"
      },
      "source": [
        "from sklearn.linear_model import LinearRegression\n",
        "from sklearn.model_selection import train_test_split\n",
        "from sklearn.metrics import confusion_matrix,classification_report\n",
        "import numpy as np\n",
        "import pandas as pd\n",
        "import seaborn as sns"
      ],
      "execution_count": 1,
      "outputs": []
    },
    {
      "cell_type": "markdown",
      "metadata": {
        "id": "Du3K8avm4O13"
      },
      "source": [
        "RandomState exposes a number of methods for generating random numbers drawn from a variety of probability distributions.  \n",
        "https://docs.scipy.org/doc/numpy-1.15.1/reference/generated/numpy.random.RandomState.html#numpy.random.RandomState"
      ]
    },
    {
      "cell_type": "code",
      "metadata": {
        "colab": {
          "base_uri": "https://localhost:8080/"
        },
        "id": "y2Mqcz9U2__c",
        "outputId": "e6d39ea1-a345-4beb-8d0b-1ba7dc8fcd94"
      },
      "source": [
        "random_state = np.random.RandomState(42)\n",
        "X = random_state.rand(800,2)   ##  Random values in a given shape.\n",
        "X"
      ],
      "execution_count": 2,
      "outputs": [
        {
          "output_type": "execute_result",
          "data": {
            "text/plain": [
              "array([[0.37454012, 0.95071431],\n",
              "       [0.73199394, 0.59865848],\n",
              "       [0.15601864, 0.15599452],\n",
              "       ...,\n",
              "       [0.72433882, 0.57838692],\n",
              "       [0.27416067, 0.07941937],\n",
              "       [0.08565825, 0.89419087]])"
            ]
          },
          "metadata": {
            "tags": []
          },
          "execution_count": 2
        }
      ]
    },
    {
      "cell_type": "code",
      "metadata": {
        "colab": {
          "base_uri": "https://localhost:8080/"
        },
        "id": "jSu-54PU4cYK",
        "outputId": "7840a403-6f60-4866-e9fc-9334d6a9811d"
      },
      "source": [
        "y = 4*X[:,0] - 3.5*X[:,1]\n",
        "y"
      ],
      "execution_count": 3,
      "outputs": [
        {
          "output_type": "execute_result",
          "data": {
            "text/plain": [
              "array([-1.82933960e+00,  8.32671073e-01,  7.80937406e-02, -2.79928206e+00,\n",
              "       -7.37939753e-02, -3.31234651e+00,  2.58658368e+00,  8.53840843e-02,\n",
              "       -6.19678539e-01,  7.08478084e-01,  1.95918307e+00, -1.13687857e-01,\n",
              "       -9.23835928e-01, -1.00112541e+00,  2.20708183e+00,  1.83334497e+00,\n",
              "       -3.06089301e+00,  1.03313741e+00,  8.76602678e-01,  1.19639838e+00,\n",
              "       -1.24496625e+00, -3.04506732e+00, -1.28370807e+00, -5.73393770e-01,\n",
              "        1.53985052e+00,  1.16537363e+00,  6.26100040e-01, -8.34959907e-01,\n",
              "       -3.31970010e-01, -9.57747002e-01,  6.04987548e-01,  2.06631339e+00,\n",
              "       -7.75698252e-01, -2.24399253e+00, -3.15590170e+00,  2.39347419e+00,\n",
              "       -2.83202653e+00,  2.75904287e-01,  2.82592511e+00,  1.02832121e+00,\n",
              "        1.27087026e+00,  1.10113787e+00,  1.05787660e-01,  6.86973564e-01,\n",
              "        1.89609873e+00, -2.01797977e+00,  1.07867000e+00,  1.35558413e+00,\n",
              "        5.94537753e-01, -2.75943488e-01, -2.10171970e+00, -5.22573495e-01,\n",
              "        2.75774309e+00, -1.00289729e+00,  6.45762978e-01,  5.94731306e-01,\n",
              "        8.90369281e-01, -5.16497040e-01,  2.56169310e+00,  1.68253815e+00,\n",
              "        9.34410709e-02,  8.86832164e-01, -5.83136610e-01,  2.59502022e-01,\n",
              "       -1.75980704e+00,  8.92266676e-01, -7.02191631e-01,  2.64042855e+00,\n",
              "       -3.85403869e-01, -1.94671888e+00,  2.96855114e+00,  9.35919939e-01,\n",
              "        1.01025766e+00,  6.78880755e-01, -7.69347620e-01,  2.79459693e+00,\n",
              "       -1.13350517e+00,  3.09540837e+00,  2.28735360e-02, -1.59820704e+00,\n",
              "       -7.41937876e-01,  6.58907449e-01, -2.56239965e+00,  6.30305473e-01,\n",
              "       -1.90502473e+00,  2.65220005e+00,  1.25563702e+00,  1.97040866e+00,\n",
              "        1.41017724e+00,  3.26559665e+00,  9.67108080e-01,  6.28086736e-01,\n",
              "       -1.27817765e+00,  1.32568596e+00,  1.27211930e+00, -2.76784408e+00,\n",
              "        1.38581713e+00,  1.33885653e-01, -2.36063194e-01,  8.18781287e-01,\n",
              "        2.27363671e+00, -2.49842480e+00,  2.39352656e+00, -1.91637002e+00,\n",
              "       -5.42581845e-01, -2.26698034e-01,  1.82290245e+00,  2.01834508e+00,\n",
              "       -1.31112113e+00, -3.73750341e-01,  6.41371458e-01, -9.12306239e-01,\n",
              "        2.06845719e-01,  2.51620018e+00,  1.35920103e+00,  1.42001539e+00,\n",
              "        5.83803610e-01, -1.74761045e+00,  1.03798357e+00,  1.96200181e+00,\n",
              "        4.23084318e-01,  2.36390211e+00, -3.18728850e+00, -1.67055527e+00,\n",
              "        8.68946814e-01, -1.70046482e-01,  2.29531967e+00, -1.27083343e+00,\n",
              "        1.30851481e+00,  1.94012695e+00, -1.00515957e+00, -1.25381772e+00,\n",
              "        9.16802126e-01,  3.29368670e-01,  4.10393150e-01,  4.02047741e-01,\n",
              "        2.71947340e-01,  2.90062564e-01,  9.18306958e-01,  2.25931660e-02,\n",
              "        2.37703832e+00,  1.17339502e+00,  2.18732261e+00, -3.68641489e-02,\n",
              "       -9.21751403e-01, -8.71766087e-03,  2.02973500e+00, -1.31960936e+00,\n",
              "        2.32460062e+00,  2.19284578e+00, -1.65301433e+00, -6.84641688e-02,\n",
              "       -5.11116943e-01,  9.34853738e-01,  2.23283190e+00,  1.48128835e+00,\n",
              "       -3.26786648e+00,  9.08010761e-01,  1.02928166e+00, -2.50101973e-01,\n",
              "       -3.04179071e-01,  1.66102087e+00,  1.23682191e+00,  7.63935982e-02,\n",
              "        8.11341786e-01, -1.22857067e+00, -3.48680287e-01,  4.14597600e-02,\n",
              "        9.59039828e-01,  1.55427575e+00,  3.09312303e-01, -8.25673293e-01,\n",
              "       -5.61456406e-01,  2.38181057e+00, -6.92059246e-01, -9.85169410e-01,\n",
              "        2.06450403e+00, -1.96619248e+00, -1.94416929e+00,  1.74676134e+00,\n",
              "       -6.98829060e-01, -7.66472006e-02,  2.41450000e+00,  6.76035008e-01,\n",
              "        5.40399986e-01,  3.39335616e-01, -2.01275186e+00, -8.31660112e-01,\n",
              "        3.29804947e+00,  2.27138222e+00, -1.96592077e+00, -5.55380660e-01,\n",
              "        1.28100919e-01,  5.07099887e-01,  1.78537419e-01,  2.51785870e+00,\n",
              "       -1.22937302e+00, -1.89443648e+00,  1.93217191e+00,  3.62584212e-01,\n",
              "       -2.74643970e+00, -8.71591642e-01, -1.85413290e+00,  1.51887493e+00,\n",
              "        3.30202454e+00, -2.04796233e+00,  1.79539598e+00,  9.57789522e-01,\n",
              "        2.25171780e-02,  5.67629713e-02,  4.02652675e-01, -1.36564665e+00,\n",
              "       -1.69311605e+00, -1.34084263e+00,  9.93925493e-01, -2.09332048e+00,\n",
              "        2.11894289e+00, -2.11696474e+00, -2.58545818e+00,  2.54024818e+00,\n",
              "       -3.11388767e+00,  1.99835668e-01, -6.41717518e-02,  1.30718061e+00,\n",
              "        1.21278583e+00,  1.15417279e+00, -1.47535231e+00, -1.27939794e+00,\n",
              "       -1.59489767e+00, -1.90649604e-01, -1.80213107e+00,  9.42388839e-01,\n",
              "        2.53664317e+00, -1.89724860e+00, -2.47689553e+00, -3.34595799e+00,\n",
              "       -2.94636125e+00, -1.36457235e+00, -1.64330374e+00,  2.04636769e+00,\n",
              "        8.24741411e-02, -3.78289021e-01, -8.16795789e-01, -8.01585642e-01,\n",
              "        6.85722693e-01, -3.47837081e-01,  4.51100673e-01,  6.18060822e-01,\n",
              "        2.06255322e+00,  4.45841625e-01,  9.16309574e-01, -1.61017210e+00,\n",
              "        2.16976540e+00,  7.64828388e-01,  1.25918137e+00,  9.89810157e-01,\n",
              "        6.99690320e-01,  8.85902697e-02, -1.33108319e+00,  3.42264540e+00,\n",
              "        1.04340486e+00,  9.32241360e-01,  1.71288876e+00,  7.02353258e-01,\n",
              "       -2.80102633e+00, -2.47407820e-01,  2.04253638e+00, -2.30730394e-01,\n",
              "        2.53287121e+00,  1.35011859e+00,  1.69459289e+00, -1.43638117e+00,\n",
              "        1.21894345e+00, -1.89627582e+00, -6.21883567e-01, -9.01981247e-01,\n",
              "        2.44344455e-01,  2.09442438e+00,  4.35321547e-01,  8.49465593e-01,\n",
              "        2.07094451e+00,  4.94579573e-01, -6.62361669e-01,  3.78139533e-02,\n",
              "        2.39774064e+00, -6.86827588e-01, -5.91132322e-01,  1.26132652e-01,\n",
              "       -2.65476276e+00,  1.06460981e+00, -1.59357099e+00,  8.19841740e-01,\n",
              "        1.69309375e+00, -1.47625714e-01, -1.94760715e-02, -1.68775292e+00,\n",
              "       -4.82315154e-01,  1.92828790e+00,  2.06711140e+00,  6.26115918e-01,\n",
              "       -2.99325934e-01,  3.97583069e-01, -1.13018220e+00, -4.49609640e-01,\n",
              "       -4.02712817e-01, -2.64068784e+00,  2.22544495e+00,  2.71261095e-01,\n",
              "       -7.24759929e-01,  6.05896203e-01,  5.36144575e-03, -2.13942037e-01,\n",
              "        1.18182135e+00, -7.66009419e-01, -7.36796494e-01, -2.79825588e-01,\n",
              "        1.84312570e-01, -1.13725524e+00,  1.28182230e+00, -2.43521647e-01,\n",
              "       -1.04699229e+00, -3.00448705e-01, -2.63779696e+00, -2.48830279e-03,\n",
              "        1.41213726e+00, -1.53219174e+00, -2.61673688e-01,  1.28010713e+00,\n",
              "       -1.35684414e-01,  5.85944899e-01, -2.02841647e+00,  1.59280551e+00,\n",
              "       -1.27877097e-01,  4.21446107e-01, -2.51564994e-01, -2.44518461e+00,\n",
              "       -1.51485488e+00, -1.79673785e+00, -9.44338988e-01,  8.48606792e-01,\n",
              "        2.36562839e+00, -1.65670092e+00,  1.76883383e+00,  1.30652393e+00,\n",
              "        2.42331861e+00, -1.94310590e-01,  1.18200745e+00, -1.67782285e+00,\n",
              "       -8.79811562e-01, -1.06653950e+00,  1.94897535e+00,  8.75965743e-01,\n",
              "       -3.21136093e+00, -1.54514518e+00, -1.36669691e+00,  9.56175847e-01,\n",
              "        4.44861555e-01, -1.85787894e+00, -5.51165562e-02, -2.06084727e+00,\n",
              "        3.11904610e+00, -2.32793720e+00, -6.48508266e-01, -2.22434609e+00,\n",
              "        2.33713480e-01, -2.19394833e+00,  8.30059896e-01, -1.63487996e+00,\n",
              "       -1.28831761e+00,  4.37234131e-01,  7.95896583e-01,  1.23091616e+00,\n",
              "       -2.21966023e+00, -3.66870128e-01,  1.44105546e+00, -2.82182027e+00,\n",
              "        1.33866256e+00, -2.22199987e+00,  6.13177202e-01,  8.15480093e-01,\n",
              "       -4.84327718e-01, -1.60985546e+00, -1.86048416e+00, -1.88449857e-02,\n",
              "       -1.50607357e+00, -2.52005607e+00, -8.80550868e-01,  2.66447047e+00,\n",
              "       -1.61087841e+00,  6.36129431e-01,  8.76258226e-01, -2.02739742e-01,\n",
              "       -2.45318610e+00,  9.30587220e-01, -1.46746847e+00, -1.43839880e+00,\n",
              "       -1.16535108e-01, -2.97999295e+00,  1.75050699e+00, -4.42144539e-01,\n",
              "        2.29506789e+00,  1.81650778e-01, -8.81032139e-01,  4.97978264e-01,\n",
              "        1.40702433e+00,  1.00322149e+00, -2.72429586e+00,  1.66365225e+00,\n",
              "        9.68592279e-01, -9.54143790e-01,  3.19520171e+00, -5.95937408e-02,\n",
              "       -1.06991225e+00,  1.71047771e-01,  1.36724220e+00, -6.85119015e-01,\n",
              "       -5.39263713e-02,  5.27232018e-01,  2.39100496e+00,  1.09428393e-01,\n",
              "       -2.27000298e+00, -2.65160224e+00, -8.56533522e-01, -3.14766121e+00,\n",
              "       -7.50675193e-02, -2.35655574e+00, -2.30356764e+00,  1.53151540e-01,\n",
              "       -1.50603564e+00,  2.02938430e+00,  1.51559955e+00,  5.54891463e-01,\n",
              "       -3.55688916e-01, -1.57874730e-02,  1.35738367e-01,  5.45630909e-01,\n",
              "        1.14542857e+00, -4.44988668e-01,  5.57655119e-01, -6.68518597e-01,\n",
              "       -1.42732542e+00, -2.85537886e-01,  2.57475802e+00,  1.77734470e+00,\n",
              "       -4.53337097e-01, -1.05869911e-01,  1.93073710e+00,  1.95489551e+00,\n",
              "       -1.96458444e+00, -2.47272164e-01,  7.38682307e-01, -1.31490372e+00,\n",
              "       -1.43865279e+00,  2.07341352e+00, -2.91229695e-01,  1.42295703e+00,\n",
              "        1.06365485e+00,  6.81745871e-01, -2.14172354e+00,  2.56402706e+00,\n",
              "        1.76786271e+00,  7.78715512e-01,  1.62221144e+00, -8.21010314e-01,\n",
              "        1.63130598e+00, -2.36483153e+00,  2.09769308e+00, -2.66358499e-01,\n",
              "       -3.12648312e+00, -1.54680333e+00, -8.43402126e-01, -2.98414760e-01,\n",
              "        7.87199687e-01, -2.60252273e+00,  1.40461445e+00,  7.44390808e-02,\n",
              "       -2.49895670e+00,  3.34097251e-01,  1.91128994e+00, -1.91798418e+00,\n",
              "       -1.77983771e+00, -3.81138210e-01, -9.00795605e-02,  1.83625762e+00,\n",
              "        5.99442153e-01, -6.24219426e-01,  2.17799706e+00, -7.93191615e-01,\n",
              "        2.20032138e+00, -1.03484982e-01, -1.36121715e+00,  1.63410776e-01,\n",
              "        1.17853542e+00,  1.23171390e+00, -1.88124998e+00,  7.66225868e-01,\n",
              "       -9.77226785e-01,  1.12335833e+00,  3.19038909e+00,  2.23992921e+00,\n",
              "       -1.15612160e+00,  9.28996241e-01,  9.20502808e-01, -2.03078522e-01,\n",
              "       -7.14315337e-01, -2.57200026e+00,  3.63824352e+00, -4.16068421e-01,\n",
              "       -1.26550693e+00,  3.54314227e+00,  1.74895954e+00,  2.98880923e-01,\n",
              "        2.11731620e+00,  4.92247709e-01, -1.62480227e+00, -1.93891404e+00,\n",
              "        4.98051249e-01, -2.12919791e+00, -1.17718385e+00, -8.42090819e-01,\n",
              "       -6.09565907e-01, -9.15609806e-01,  1.38838983e+00,  8.46435164e-01,\n",
              "        3.40595256e+00,  1.64752672e+00,  9.60529469e-01,  2.76424509e+00,\n",
              "        1.66199496e+00, -2.76766640e-01,  5.04163145e-02,  1.61090992e+00,\n",
              "       -8.96110046e-01,  5.68449187e-01,  4.13152160e-01,  3.67605353e-01,\n",
              "        1.05813987e-01,  2.45368359e+00, -8.41458901e-01, -2.45184859e+00,\n",
              "        2.83244155e+00, -1.40659097e+00,  2.14302280e+00,  1.86902675e+00,\n",
              "        3.15382355e+00,  1.49716383e+00,  6.36537391e-01,  3.04831135e-01,\n",
              "        2.29410919e-01,  1.89289949e+00, -3.16048850e+00,  2.88010549e-01,\n",
              "        3.37099792e+00, -1.06886659e+00,  2.24544680e+00,  2.47779050e+00,\n",
              "       -9.84140021e-01,  3.41458012e-01, -2.70516567e+00,  6.09097946e-01,\n",
              "        2.10212076e-01,  6.15204208e-01,  6.92967125e-01, -1.08163921e+00,\n",
              "        5.81615825e-01,  1.15811538e+00, -4.46456343e-01,  2.46657705e+00,\n",
              "        1.67181481e+00, -1.51080937e-01,  2.08139164e+00,  7.32002736e-01,\n",
              "       -2.00709187e+00,  8.85122665e-01,  3.66797213e-01, -9.60947424e-02,\n",
              "        4.09393146e-01, -1.60062726e-01, -2.44862724e+00,  3.38500862e+00,\n",
              "        2.85222247e+00, -1.26180348e+00, -2.21984500e+00,  1.55239964e+00,\n",
              "       -9.79089979e-01, -9.66443950e-01,  1.61794157e+00,  6.46073983e-01,\n",
              "        2.74494934e+00,  1.14967858e+00,  2.65541543e+00, -7.31610797e-01,\n",
              "       -2.87026079e+00,  2.51411318e+00, -1.27474804e+00, -1.76819420e+00,\n",
              "       -7.89672084e-01, -2.86741069e+00,  5.02883383e-01,  2.54330549e+00,\n",
              "        2.94699858e+00, -1.04414156e+00, -7.41853201e-01,  1.17252203e+00,\n",
              "       -2.39542909e+00,  1.24870624e-01, -2.12733814e+00,  2.00203526e+00,\n",
              "       -2.05222337e+00,  1.66163651e+00,  3.27475163e+00, -1.57331652e+00,\n",
              "       -5.55931549e-01,  6.30624384e-01,  2.50324157e+00,  2.77155569e+00,\n",
              "        7.43449526e-01,  1.31682510e+00,  1.80119833e+00,  3.22343441e+00,\n",
              "        7.56403687e-01,  1.26946080e-01,  8.52324838e-01,  4.11137883e-01,\n",
              "        1.52511529e+00,  1.50082093e+00,  3.10824831e-02,  1.23619052e+00,\n",
              "       -9.18482007e-01, -1.78006416e+00, -1.71548323e+00, -3.51822686e-01,\n",
              "       -2.07081948e-01, -1.09811696e-01,  1.37926317e+00, -2.30500846e-01,\n",
              "        2.98073807e+00,  1.55477216e+00, -2.48513901e+00, -1.17612637e+00,\n",
              "        1.39955404e-02,  2.20439677e+00, -5.06145519e-01, -8.75728263e-01,\n",
              "       -1.42212305e-01,  1.12318797e+00, -1.42963999e-01,  2.50182094e+00,\n",
              "        3.03942888e-01,  7.30559555e-02, -3.15039828e+00, -1.68665204e+00,\n",
              "       -2.12149855e-01,  5.02994378e-02, -1.49408713e+00, -2.81139891e+00,\n",
              "       -6.70172690e-01, -4.43248795e-01, -4.54952682e-01,  1.15287634e-01,\n",
              "        4.30006556e-01,  2.71988531e+00,  2.72432575e+00, -2.03547311e+00,\n",
              "        8.91146094e-01, -2.95752020e-01, -2.57334974e+00,  1.62303275e+00,\n",
              "       -1.58262904e+00,  1.81509878e-01, -5.88448795e-01,  9.27998277e-01,\n",
              "        1.48159941e+00,  8.51042997e-02,  3.81021609e+00,  1.44276205e+00,\n",
              "       -7.83940135e-01, -1.11030557e+00,  2.12678421e+00, -9.65914961e-01,\n",
              "        2.91213572e+00,  2.81405564e-01,  2.47196519e+00, -3.18313964e-01,\n",
              "       -1.12669202e-01,  3.25216104e+00,  1.69456788e+00, -2.05870036e+00,\n",
              "       -2.06397187e-02, -6.38394502e-01, -7.14689888e-01,  2.97418227e+00,\n",
              "        1.48878143e+00,  2.63583469e+00,  2.29102079e+00,  6.86963238e-01,\n",
              "       -1.14017720e+00, -1.55307907e+00,  8.53050141e-01, -5.14031268e-03,\n",
              "        8.15003746e-02, -2.43072134e+00,  9.94010045e-01,  5.56836261e-01,\n",
              "       -6.97532024e-01,  4.31646172e-01,  8.79194450e-01, -1.15344181e+00,\n",
              "       -2.70010536e-01, -1.45976645e+00, -5.10697411e-01, -3.52909767e-01,\n",
              "        5.68605054e-01, -3.31158133e+00, -4.81234280e-01,  1.43733225e-02,\n",
              "       -3.78638580e-01,  4.53697454e-01, -1.23466290e+00, -1.54959971e+00,\n",
              "        3.55099568e+00,  1.13728271e+00,  2.85254475e+00, -1.62899705e-01,\n",
              "        1.38708878e+00, -1.73766285e-01,  1.47848582e+00, -3.13677220e+00,\n",
              "        3.90310154e-01, -1.44339854e+00, -7.03857797e-01, -1.87608644e+00,\n",
              "        3.82891277e+00,  2.48451887e+00,  7.44664607e-01, -3.16507188e-01,\n",
              "        2.09957112e+00, -1.02844420e+00,  5.63385796e-01,  1.66671299e+00,\n",
              "        2.85060517e+00,  2.15780108e+00,  1.57279476e-02, -8.49444457e-01,\n",
              "       -1.61952741e-02, -3.56204747e-01,  6.52892776e-01,  7.50495786e-02,\n",
              "        8.55732231e-01, -1.50252465e+00,  3.99190569e-01, -1.09179913e+00,\n",
              "        1.24902742e-01,  4.53080563e-01, -2.45471044e-01,  7.38512188e-01,\n",
              "        3.75828074e+00,  7.56641880e-01, -5.53208065e-01, -2.27069172e+00,\n",
              "       -3.02945653e+00,  1.05151785e+00,  1.04476905e+00,  6.39767306e-02,\n",
              "        1.32503912e+00, -8.90937445e-01,  1.91041869e+00,  1.22759508e+00,\n",
              "       -1.65931509e+00, -1.11231845e+00,  2.46211582e+00,  1.37127914e+00,\n",
              "        2.15929774e+00,  1.29817730e+00, -2.04237968e+00,  1.69997200e+00,\n",
              "        1.82032816e-01,  1.70162148e-01,  1.00532431e+00,  2.09364280e-01,\n",
              "        5.84638561e-01,  2.16028094e+00,  1.80737339e+00,  2.33582600e+00,\n",
              "        9.14250423e-01,  1.75838413e+00, -7.22947916e-02,  5.31958256e-01,\n",
              "       -2.15234591e+00,  5.14935200e-01, -4.40382601e-01,  6.39221335e-01,\n",
              "        3.47360295e+00,  1.36546253e+00, -7.98793720e-01, -6.99651373e-01,\n",
              "        1.49193385e-01,  8.73001059e-01,  8.18674875e-01, -2.78703506e+00])"
            ]
          },
          "metadata": {
            "tags": []
          },
          "execution_count": 3
        }
      ]
    },
    {
      "cell_type": "code",
      "metadata": {
        "id": "F24G918r4puK"
      },
      "source": [
        "X_train,X_test,y_train,y_test = train_test_split(X,y,random_state=random_state)\n"
      ],
      "execution_count": 4,
      "outputs": []
    },
    {
      "cell_type": "code",
      "metadata": {
        "id": "wZCSehZf7YIJ"
      },
      "source": [
        "lin_reg = LinearRegression(fit_intercept=True)\n",
        "lin_reg.fit(X_train,y_train)\n",
        "pred = lin_reg.predict(X_test)\n"
      ],
      "execution_count": 11,
      "outputs": []
    },
    {
      "cell_type": "code",
      "metadata": {
        "colab": {
          "base_uri": "https://localhost:8080/"
        },
        "id": "Etrlf71sZFGi",
        "outputId": "2729526a-03bf-46d0-fe32-7822a4eefcab"
      },
      "source": [
        "lin_reg.score(X_test,y_test)"
      ],
      "execution_count": 13,
      "outputs": [
        {
          "output_type": "execute_result",
          "data": {
            "text/plain": [
              "1.0"
            ]
          },
          "metadata": {
            "tags": []
          },
          "execution_count": 13
        }
      ]
    },
    {
      "cell_type": "code",
      "metadata": {
        "colab": {
          "base_uri": "https://localhost:8080/"
        },
        "id": "CQ06_NuC7jzC",
        "outputId": "97829975-b28a-4852-9837-14b4d0252632"
      },
      "source": [
        "lin_reg.coef_"
      ],
      "execution_count": 12,
      "outputs": [
        {
          "output_type": "execute_result",
          "data": {
            "text/plain": [
              "array([ 4. , -3.5])"
            ]
          },
          "metadata": {
            "tags": []
          },
          "execution_count": 12
        }
      ]
    },
    {
      "cell_type": "code",
      "metadata": {
        "colab": {
          "base_uri": "https://localhost:8080/",
          "height": 282
        },
        "id": "OInoyr3z73f4",
        "outputId": "23a03b83-9afa-4816-a949-331dcfaae75d"
      },
      "source": [
        "sns.scatterplot(x=X[:,0],y=y)"
      ],
      "execution_count": 7,
      "outputs": [
        {
          "output_type": "execute_result",
          "data": {
            "text/plain": [
              "<matplotlib.axes._subplots.AxesSubplot at 0x7fbf95561cd0>"
            ]
          },
          "metadata": {
            "tags": []
          },
          "execution_count": 7
        },
        {
          "output_type": "display_data",
          "data": {
            "image/png": "[encoded data removed]",
            "text/plain": [
              "<Figure size 432x288 with 1 Axes>"
            ]
          },
          "metadata": {
            "tags": [],
            "needs_background": "light"
          }
        }
      ]
    }
  ]
}