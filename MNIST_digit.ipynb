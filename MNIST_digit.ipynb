{
  "nbformat": 4,
  "nbformat_minor": 0,
  "metadata": {
    "colab": {
      "name": "MNIST_digit",
      "provenance": [],
      "collapsed_sections": [],
      "authorship_tag": "ABX9TyO7ui2KA1u96GGpEqMmn4Yb",
      "include_colab_link": true
    },
    "kernelspec": {
      "name": "python3",
      "display_name": "Python 3"
    },
    "language_info": {
      "name": "python"
    }
  },
  "cells": [
    {
      "cell_type": "markdown",
      "metadata": {
        "id": "view-in-github",
        "colab_type": "text"
      },
      "source": [
        "<a href=\"https://colab.research.google.com/github/kaliappan01/Exploring_ML_models/blob/main/MNIST_digit.ipynb\" target=\"_parent\"><img src=\"https://colab.research.google.com/assets/colab-badge.svg\" alt=\"Open In Colab\"/></a>"
      ]
    },
    {
      "cell_type": "code",
      "metadata": {
        "id": "DuBr5hOPvWG7"
      },
      "source": [
        "import matplotlib.pyplot as plt\n",
        "import matplotlib\n",
        "import numpy as np\n",
        "import pandas as pd\n",
        "from sklearn.datasets import fetch_openml\n",
        "from sklearn.model_selection import train_test_split\n",
        "from sklearn.metrics import classification_report,confusion_matrix,accuracy_score,f1_score"
      ],
      "execution_count": 36,
      "outputs": []
    },
    {
      "cell_type": "code",
      "metadata": {
        "id": "nldAZDH3w1o3"
      },
      "source": [
        "get_data = fetch_openml('mnist_784')\n",
        "%matplotlib inline"
      ],
      "execution_count": 2,
      "outputs": []
    },
    {
      "cell_type": "code",
      "metadata": {
        "id": "RH1lqHT5xYH4"
      },
      "source": [
        "get_data"
      ],
      "execution_count": null,
      "outputs": []
    },
    {
      "cell_type": "code",
      "metadata": {
        "id": "wFBQVwpgxgVS"
      },
      "source": [
        "features,label = get_data['data'],get_data['target']"
      ],
      "execution_count": 4,
      "outputs": []
    },
    {
      "cell_type": "code",
      "metadata": {
        "colab": {
          "base_uri": "https://localhost:8080/"
        },
        "id": "qp2o9DP3xrNd",
        "outputId": "f2e8a82d-7f1a-4920-b8d6-2867d0796d30"
      },
      "source": [
        "features.shape"
      ],
      "execution_count": 5,
      "outputs": [
        {
          "output_type": "execute_result",
          "data": {
            "text/plain": [
              "(70000, 784)"
            ]
          },
          "metadata": {
            "tags": []
          },
          "execution_count": 5
        }
      ]
    },
    {
      "cell_type": "code",
      "metadata": {
        "colab": {
          "base_uri": "https://localhost:8080/"
        },
        "id": "udtjiRUHxxm4",
        "outputId": "6ce4f2aa-1839-4e7a-84b4-0010dce3f330"
      },
      "source": [
        "label.shape"
      ],
      "execution_count": 6,
      "outputs": [
        {
          "output_type": "execute_result",
          "data": {
            "text/plain": [
              "(70000,)"
            ]
          },
          "metadata": {
            "tags": []
          },
          "execution_count": 6
        }
      ]
    },
    {
      "cell_type": "code",
      "metadata": {
        "colab": {
          "base_uri": "https://localhost:8080/",
          "height": 265
        },
        "id": "tA2OOfeex3vO",
        "outputId": "f0a91164-9cd9-4aaa-96a4-b4fe4a165911"
      },
      "source": [
        "samp_digit = features[15000]\n",
        "samp_digit_img = samp_digit.reshape(28,28)\n",
        "plt.imshow(samp_digit_img,cmap=matplotlib.cm.binary,interpolation=\"nearest\")\n",
        "plt.axis(\"off\")\n",
        "#sample data "
      ],
      "execution_count": 7,
      "outputs": [
        {
          "output_type": "execute_result",
          "data": {
            "text/plain": [
              "(-0.5, 27.5, 27.5, -0.5)"
            ]
          },
          "metadata": {
            "tags": []
          },
          "execution_count": 7
        },
        {
          "output_type": "display_data",
          "data": {
            "image/png": "[encoded data removed]",
            "text/plain": [
              "<Figure size 432x288 with 1 Axes>"
            ]
          },
          "metadata": {
            "tags": [],
            "needs_background": "light"
          }
        }
      ]
    },
    {
      "cell_type": "code",
      "metadata": {
        "id": "cvyWrDiUzYre"
      },
      "source": [
        "label[15000] #verifying image\n",
        "get_barrier = int(features.shape[0]*0.075)"
      ],
      "execution_count": 8,
      "outputs": []
    },
    {
      "cell_type": "code",
      "metadata": {
        "colab": {
          "base_uri": "https://localhost:8080/"
        },
        "id": "W-FJkwC7zrfH",
        "outputId": "8550960c-f5c8-4c02-a425-b8cd0e8f2e62"
      },
      "source": [
        "feature_train,feature_test = features[:6000],features[6000:7000]\n",
        "feature_train.shape"
      ],
      "execution_count": 9,
      "outputs": [
        {
          "output_type": "execute_result",
          "data": {
            "text/plain": [
              "(6000, 784)"
            ]
          },
          "metadata": {
            "tags": []
          },
          "execution_count": 9
        }
      ]
    },
    {
      "cell_type": "code",
      "metadata": {
        "colab": {
          "base_uri": "https://localhost:8080/"
        },
        "id": "dY_uUczp0cdW",
        "outputId": "7b55802f-ed59-4dd1-edd2-f044d4070109"
      },
      "source": [
        "label_train,label_test = label[:6000],label[6000:7000]\n",
        "label_test.shape"
      ],
      "execution_count": 10,
      "outputs": [
        {
          "output_type": "execute_result",
          "data": {
            "text/plain": [
              "(1000,)"
            ]
          },
          "metadata": {
            "tags": []
          },
          "execution_count": 10
        }
      ]
    },
    {
      "cell_type": "code",
      "metadata": {
        "id": "YpqqTewe03hL"
      },
      "source": [
        "shuffle = np.random.permutation(get_barrier)\n",
        "feature_train,label_train = feature_train[shuffle],label_train[shuffle]"
      ],
      "execution_count": 11,
      "outputs": []
    },
    {
      "cell_type": "code",
      "metadata": {
        "colab": {
          "base_uri": "https://localhost:8080/"
        },
        "id": "GdjFZf8e1nlq",
        "outputId": "55a00717-9031-4d48-cab1-c28de221ece3"
      },
      "source": [
        "#trying only for 5\n",
        "print(label_test.shape)\n",
        "train_5s = label_train=='5'\n",
        "res_5s = label_test=='5'\n",
        "#print(any(all_5s))"
      ],
      "execution_count": 12,
      "outputs": [
        {
          "output_type": "stream",
          "text": [
            "(1000,)\n"
          ],
          "name": "stdout"
        }
      ]
    },
    {
      "cell_type": "code",
      "metadata": {
        "id": "qWJmnxYq2vr7"
      },
      "source": [
        "from sklearn.linear_model import LogisticRegression"
      ],
      "execution_count": 13,
      "outputs": []
    },
    {
      "cell_type": "code",
      "metadata": {
        "colab": {
          "base_uri": "https://localhost:8080/"
        },
        "id": "10IZkAlE39LE",
        "outputId": "d8716a22-3c4a-4d37-8fb5-1deff66170b1"
      },
      "source": [
        "my_log_r = LogisticRegression(solver='lbfgs',tol = 0.1,max_iter=200)\n",
        "my_log_r.fit(feature_train,train_5s)"
      ],
      "execution_count": 14,
      "outputs": [
        {
          "output_type": "stream",
          "text": [
            "/usr/local/lib/python3.7/dist-packages/sklearn/linear_model/_logistic.py:940: ConvergenceWarning: lbfgs failed to converge (status=1):\n",
            "STOP: TOTAL NO. of ITERATIONS REACHED LIMIT.\n",
            "\n",
            "Increase the number of iterations (max_iter) or scale the data as shown in:\n",
            "    https://scikit-learn.org/stable/modules/preprocessing.html\n",
            "Please also refer to the documentation for alternative solver options:\n",
            "    https://scikit-learn.org/stable/modules/linear_model.html#logistic-regression\n",
            "  extra_warning_msg=_LOGISTIC_SOLVER_CONVERGENCE_MSG)\n"
          ],
          "name": "stderr"
        },
        {
          "output_type": "execute_result",
          "data": {
            "text/plain": [
              "LogisticRegression(C=1.0, class_weight=None, dual=False, fit_intercept=True,\n",
              "                   intercept_scaling=1, l1_ratio=None, max_iter=200,\n",
              "                   multi_class='auto', n_jobs=None, penalty='l2',\n",
              "                   random_state=None, solver='lbfgs', tol=0.1, verbose=0,\n",
              "                   warm_start=False)"
            ]
          },
          "metadata": {
            "tags": []
          },
          "execution_count": 14
        }
      ]
    },
    {
      "cell_type": "code",
      "metadata": {
        "colab": {
          "base_uri": "https://localhost:8080/"
        },
        "id": "-j2GxGEm4BWr",
        "outputId": "e2c3d382-2d15-4756-f47c-d8d4b2b1fc89"
      },
      "source": [
        "my_log_r.predict([samp_digit])"
      ],
      "execution_count": 15,
      "outputs": [
        {
          "output_type": "execute_result",
          "data": {
            "text/plain": [
              "array([ True])"
            ]
          },
          "metadata": {
            "tags": []
          },
          "execution_count": 15
        }
      ]
    },
    {
      "cell_type": "code",
      "metadata": {
        "id": "jj9__x463bMV",
        "colab": {
          "base_uri": "https://localhost:8080/"
        },
        "outputId": "ea27f2bb-47f4-4880-e2f5-90ca5e387509"
      },
      "source": [
        "from sklearn.model_selection import cross_val_score\n",
        "a =  cross_val_score(my_log_r,feature_train,train_5s,cv=3,scoring='accuracy')\n",
        "print(a.mean())"
      ],
      "execution_count": 16,
      "outputs": [
        {
          "output_type": "stream",
          "text": [
            "/usr/local/lib/python3.7/dist-packages/sklearn/linear_model/_logistic.py:940: ConvergenceWarning: lbfgs failed to converge (status=1):\n",
            "STOP: TOTAL NO. of ITERATIONS REACHED LIMIT.\n",
            "\n",
            "Increase the number of iterations (max_iter) or scale the data as shown in:\n",
            "    https://scikit-learn.org/stable/modules/preprocessing.html\n",
            "Please also refer to the documentation for alternative solver options:\n",
            "    https://scikit-learn.org/stable/modules/linear_model.html#logistic-regression\n",
            "  extra_warning_msg=_LOGISTIC_SOLVER_CONVERGENCE_MSG)\n"
          ],
          "name": "stderr"
        },
        {
          "output_type": "stream",
          "text": [
            "0.9586666666666667\n"
          ],
          "name": "stdout"
        },
        {
          "output_type": "stream",
          "text": [
            "/usr/local/lib/python3.7/dist-packages/sklearn/linear_model/_logistic.py:940: ConvergenceWarning: lbfgs failed to converge (status=1):\n",
            "STOP: TOTAL NO. of ITERATIONS REACHED LIMIT.\n",
            "\n",
            "Increase the number of iterations (max_iter) or scale the data as shown in:\n",
            "    https://scikit-learn.org/stable/modules/preprocessing.html\n",
            "Please also refer to the documentation for alternative solver options:\n",
            "    https://scikit-learn.org/stable/modules/linear_model.html#logistic-regression\n",
            "  extra_warning_msg=_LOGISTIC_SOLVER_CONVERGENCE_MSG)\n"
          ],
          "name": "stderr"
        }
      ]
    },
    {
      "cell_type": "code",
      "metadata": {
        "id": "QG9-dVika96l"
      },
      "source": [
        "X_train, X_test, y_train, y_test = train_test_split(features, label, test_size=0.33,shuffle = True, random_state =144)"
      ],
      "execution_count": 17,
      "outputs": []
    },
    {
      "cell_type": "code",
      "metadata": {
        "colab": {
          "base_uri": "https://localhost:8080/"
        },
        "id": "EeBoBiTSTyfd",
        "outputId": "55e3c8a4-d1f5-4b17-8df5-df8cb1033eea"
      },
      "source": [
        "from sklearn.tree import DecisionTreeClassifier\n",
        "from sklearn import svm\n",
        "\n",
        "DT_model = DecisionTreeClassifier()\n",
        "DT_model.fit(X_train,y_train)\n"
      ],
      "execution_count": 19,
      "outputs": [
        {
          "output_type": "execute_result",
          "data": {
            "text/plain": [
              "DecisionTreeClassifier(ccp_alpha=0.0, class_weight=None, criterion='gini',\n",
              "                       max_depth=None, max_features=None, max_leaf_nodes=None,\n",
              "                       min_impurity_decrease=0.0, min_impurity_split=None,\n",
              "                       min_samples_leaf=1, min_samples_split=2,\n",
              "                       min_weight_fraction_leaf=0.0, presort='deprecated',\n",
              "                       random_state=None, splitter='best')"
            ]
          },
          "metadata": {
            "tags": []
          },
          "execution_count": 19
        }
      ]
    },
    {
      "cell_type": "code",
      "metadata": {
        "id": "PVY9eqouZG_i"
      },
      "source": [
        "pred = DT_model.predict(X_test)\n"
      ],
      "execution_count": 20,
      "outputs": []
    },
    {
      "cell_type": "code",
      "metadata": {
        "id": "9AnVk5Dmbwjv"
      },
      "source": [
        "def evaluate(y_test,pred):\n",
        "  print(\"Accuracy Score \\n\",accuracy_score(y_test, pred))\n",
        "  con_mat = confusion_matrix(y_test,pred)\n",
        "  print(\"Confusion Matrix \\n\",con_mat)\n",
        "  print(\"Classification Report \\n\",classification_report(y_test,pred))\n",
        "  print(\"F-1 score \\n\",f1_score(y_test,pred,average =\"macro\"))\n"
      ],
      "execution_count": 37,
      "outputs": []
    },
    {
      "cell_type": "code",
      "metadata": {
        "colab": {
          "base_uri": "https://localhost:8080/"
        },
        "id": "W-WVpxqbbxpg",
        "outputId": "f65e10db-db94-4178-93db-477d5ea10c2c"
      },
      "source": [
        "evaluate(y_test, pred)"
      ],
      "execution_count": 38,
      "outputs": [
        {
          "output_type": "stream",
          "text": [
            "Accuracy Score \n",
            " 0.8675324675324675\n",
            "Confusion Matrix \n",
            " [[2156    3   33   19   14   38   34    6   30   18]\n",
            " [   1 2456   21    9    9   10   12   21   24    7]\n",
            " [  31   34 1956   53   29   33   29   37   70   27]\n",
            " [  21   30   61 1963   19  101   16   33   73   44]\n",
            " [  14    9   40   13 1976   15   50   18   50  107]\n",
            " [  42   20   26   89   29 1646   54   12   86   56]\n",
            " [  42   13   35   13   29   57 2011    2   44   15]\n",
            " [   8   15   58   36   33   10    6 2140   16   60]\n",
            " [  42   36   43   77   43   62   43   16 1783   55]\n",
            " [  21    9   30   48   82   38   13   44   86 1953]]\n",
            "Classification Report \n",
            "               precision    recall  f1-score   support\n",
            "\n",
            "           0       0.91      0.92      0.91      2351\n",
            "           1       0.94      0.96      0.95      2570\n",
            "           2       0.85      0.85      0.85      2299\n",
            "           3       0.85      0.83      0.84      2361\n",
            "           4       0.87      0.86      0.87      2292\n",
            "           5       0.82      0.80      0.81      2060\n",
            "           6       0.89      0.89      0.89      2261\n",
            "           7       0.92      0.90      0.91      2382\n",
            "           8       0.79      0.81      0.80      2200\n",
            "           9       0.83      0.84      0.84      2324\n",
            "\n",
            "    accuracy                           0.87     23100\n",
            "   macro avg       0.87      0.87      0.87     23100\n",
            "weighted avg       0.87      0.87      0.87     23100\n",
            "\n",
            "F-1 score \n",
            " 0.8655462828099395\n"
          ],
          "name": "stdout"
        }
      ]
    },
    {
      "cell_type": "code",
      "metadata": {
        "id": "njfbpAFsdiLC"
      },
      "source": [
        "from sklearn.preprocessing import StandardScaler\n",
        "std_scaler = StandardScaler()\n",
        "X_train_sc = std_scaler.fit_transform(X_train)\n",
        "X_test_sc = std_scaler.transform(X_test)"
      ],
      "execution_count": 29,
      "outputs": []
    },
    {
      "cell_type": "markdown",
      "metadata": {
        "id": "QeJBs8j7evoM"
      },
      "source": [
        "Standard scaler should be used only after splitting data into train & split  \n",
        "Also the test data should be only transformed\n",
        "while the training data should be fit_transform\n",
        "Basically what fit does is it gets the normalized value for the variable \n",
        "we get this value using the following formula  \n",
        "![standard scaling formula](https://www.atoti.io/wp-content/uploads/2021/01/1_6TnJHNoeu9ZSni1B94MZow.png)  \n",
        "[Image source](https://www.atoti.io/wp-content/uploads/2021/01/1_6TnJHNoeu9ZSni1B94MZow.png)"
      ]
    },
    {
      "cell_type": "code",
      "metadata": {
        "id": "BEl6IVRMdMNd"
      },
      "source": [
        "svm_model = svm.SVC(C=1.0)\n",
        "svm_model.fit(X_train_sc,y_train)\n",
        "svm_pred = svm_model.predict(X_test_sc)"
      ],
      "execution_count": 30,
      "outputs": []
    },
    {
      "cell_type": "code",
      "metadata": {
        "colab": {
          "base_uri": "https://localhost:8080/"
        },
        "id": "qdsuAqg8dYaB",
        "outputId": "0b5e6788-7bed-4135-8c9a-6d54e56a9102"
      },
      "source": [
        "evaluate(y_test,svm_pred)"
      ],
      "execution_count": 39,
      "outputs": [
        {
          "output_type": "stream",
          "text": [
            "Accuracy Score \n",
            " 0.9614718614718615\n",
            "Confusion Matrix \n",
            " [[2306    0    8    3    2    4   14    6    7    1]\n",
            " [   0 2533   12    5    2    0    4    7    4    3]\n",
            " [   7    7 2200   10    8    0   13   35   16    3]\n",
            " [   0    6   32 2227    4   21    0   39   27    5]\n",
            " [   3    3   17    1 2211    4   13   10    2   28]\n",
            " [   4    5    7   30    9 1948   23   19    9    6]\n",
            " [   5    4    7    0    2   11 2211   17    4    0]\n",
            " [   2    9   12    8   11    1    0 2312    0   27]\n",
            " [   4   17   17   16    8   22    8   16 2086    6]\n",
            " [  11    5   13   14   35    8    2   52    8 2176]]\n",
            "Classification Report \n",
            "               precision    recall  f1-score   support\n",
            "\n",
            "           0       0.98      0.98      0.98      2351\n",
            "           1       0.98      0.99      0.98      2570\n",
            "           2       0.95      0.96      0.95      2299\n",
            "           3       0.96      0.94      0.95      2361\n",
            "           4       0.96      0.96      0.96      2292\n",
            "           5       0.96      0.95      0.96      2060\n",
            "           6       0.97      0.98      0.97      2261\n",
            "           7       0.92      0.97      0.94      2382\n",
            "           8       0.96      0.95      0.96      2200\n",
            "           9       0.96      0.94      0.95      2324\n",
            "\n",
            "    accuracy                           0.96     23100\n",
            "   macro avg       0.96      0.96      0.96     23100\n",
            "weighted avg       0.96      0.96      0.96     23100\n",
            "\n",
            "F-1 score \n",
            " 0.9612161417810057\n"
          ],
          "name": "stdout"
        }
      ]
    },
    {
      "cell_type": "code",
      "metadata": {
        "id": "EmvDJXXMkACJ"
      },
      "source": [
        "from sklearn.ensemble import RandomForestClassifier\n",
        "RF_model = RandomForestClassifier()\n",
        "RF_model.fit(X_train,y_train)\n",
        "RF_pred = RF_model.predict(X_test)"
      ],
      "execution_count": 33,
      "outputs": []
    },
    {
      "cell_type": "code",
      "metadata": {
        "colab": {
          "base_uri": "https://localhost:8080/"
        },
        "id": "GdRKUGnilGYw",
        "outputId": "210051a9-322f-480e-924f-e9f5a769ee6f"
      },
      "source": [
        "evaluate(y_test,RF_pred)"
      ],
      "execution_count": 40,
      "outputs": [
        {
          "output_type": "stream",
          "text": [
            "Accuracy Score \n",
            " 0.9660606060606061\n",
            "Confusion Matrix \n",
            " [[2321    0    2    2    2    1    5    1   15    2]\n",
            " [   0 2535   14    4    4    1    3    5    1    3]\n",
            " [  11    5 2206   12    9    2   11   22   18    3]\n",
            " [   2    3   33 2247    1   25    1   13   25   11]\n",
            " [   5    2    5    0 2230    0   19    2    3   26]\n",
            " [   6    4    4   27    7 1978   13    1   11    9]\n",
            " [   9    5    2    0    4   15 2223    0    3    0]\n",
            " [   2   10   23    2   14    0    0 2304    3   24]\n",
            " [   4   12   18   20    8   13   15    4 2084   22]\n",
            " [  16    6    9   28   28    7    3   19   20 2188]]\n",
            "Classification Report \n",
            "               precision    recall  f1-score   support\n",
            "\n",
            "           0       0.98      0.99      0.98      2351\n",
            "           1       0.98      0.99      0.98      2570\n",
            "           2       0.95      0.96      0.96      2299\n",
            "           3       0.96      0.95      0.96      2361\n",
            "           4       0.97      0.97      0.97      2292\n",
            "           5       0.97      0.96      0.96      2060\n",
            "           6       0.97      0.98      0.98      2261\n",
            "           7       0.97      0.97      0.97      2382\n",
            "           8       0.95      0.95      0.95      2200\n",
            "           9       0.96      0.94      0.95      2324\n",
            "\n",
            "    accuracy                           0.97     23100\n",
            "   macro avg       0.97      0.97      0.97     23100\n",
            "weighted avg       0.97      0.97      0.97     23100\n",
            "\n",
            "F-1 score \n",
            " 0.9657412488593703\n"
          ],
          "name": "stdout"
        }
      ]
    },
    {
      "cell_type": "markdown",
      "metadata": {
        "id": "PcivNINGkXov"
      },
      "source": [
        "Your value may differ since its Random Forest as the name suggests it uses different samples of training dataset to train the  \n",
        "Random Forest is Bagging with Decision tree as the base model"
      ]
    }
  ]
}