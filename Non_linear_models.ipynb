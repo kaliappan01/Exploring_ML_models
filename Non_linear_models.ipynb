{
  "nbformat": 4,
  "nbformat_minor": 0,
  "metadata": {
    "colab": {
      "name": "Non-linear_models.ipynb",
      "provenance": [],
      "authorship_tag": "ABX9TyN8eZt5wzto3PuoWhh82/dC",
      "include_colab_link": true
    },
    "kernelspec": {
      "name": "python3",
      "display_name": "Python 3"
    },
    "language_info": {
      "name": "python"
    }
  },
  "cells": [
    {
      "cell_type": "markdown",
      "metadata": {
        "id": "view-in-github",
        "colab_type": "text"
      },
      "source": [
        "<a href=\"https://colab.research.google.com/github/kaliappan01/PCA/blob/main/Non_linear_models.ipynb\" target=\"_parent\"><img src=\"https://colab.research.google.com/assets/colab-badge.svg\" alt=\"Open In Colab\"/></a>"
      ]
    },
    {
      "cell_type": "code",
      "metadata": {
        "id": "1-ezgnw2GW8d"
      },
      "source": [
        "import numpy as np\n",
        "import pandas as pd\n",
        "import matplotlib.pyplot as plt\n",
        "import seaborn as sns\n",
        "from sklearn import datasets\n",
        "from sklearn.tree import DecisionTreeClassifier\n",
        "from sklearn.model_selection import train_test_split"
      ],
      "execution_count": null,
      "outputs": []
    },
    {
      "cell_type": "code",
      "metadata": {
        "id": "oskFIEy-JlNw"
      },
      "source": [
        "iris_data = datasets.load_iris()\n",
        "X = iris_data.data\n",
        "y = iris_data.target\n",
        "X_train,X_test,y_train,y_test = train_test_split(X,y,random_state= 42)"
      ],
      "execution_count": null,
      "outputs": []
    },
    {
      "cell_type": "code",
      "metadata": {
        "colab": {
          "base_uri": "https://localhost:8080/"
        },
        "id": "ooAZ07ITJZ57",
        "outputId": "947a8391-82b5-4eb4-b4c7-0f3cc8688dcf"
      },
      "source": [
        "my_tree = DecisionTreeClassifier(max_leaf_nodes=3, random_state=0)\n",
        "my_tree.fit(X_train, y_train)"
      ],
      "execution_count": null,
      "outputs": [
        {
          "output_type": "execute_result",
          "data": {
            "text/plain": [
              "DecisionTreeClassifier(ccp_alpha=0.0, class_weight=None, criterion='gini',\n",
              "                       max_depth=None, max_features=None, max_leaf_nodes=3,\n",
              "                       min_impurity_decrease=0.0, min_impurity_split=None,\n",
              "                       min_samples_leaf=1, min_samples_split=2,\n",
              "                       min_weight_fraction_leaf=0.0, presort='deprecated',\n",
              "                       random_state=0, splitter='best')"
            ]
          },
          "metadata": {
            "tags": []
          },
          "execution_count": 3
        }
      ]
    },
    {
      "cell_type": "code",
      "metadata": {
        "id": "I8V1RGpeIDuz"
      },
      "source": [
        "from sklearn.tree import _tree\n",
        "\n",
        "def find_rules(tree, features):\n",
        "  dec_tree = tree.tree_\n",
        "  def visitor(node, depth):\n",
        "    indent = \" \"*depth\n",
        "    if dec_tree.feature[node] != _tree.TREE_UNDEFINED:\n",
        "      print(\"{}if <{}> <={}:\".format(indent, features[node], round(dec_tree.threshold[node], 2)))\n",
        "      visitor(dec_tree.children_left[node], depth+1)\n",
        "      print(\"{}else: \".format(indent))\n",
        "      visitor(dec_tree.children_right[node], depth+1)\n",
        "    else:\n",
        "       print(\"{}return {}\".format(indent, dec_tree.value[node]))\n",
        "  visitor(0,1)"
      ],
      "execution_count": null,
      "outputs": []
    },
    {
      "cell_type": "code",
      "metadata": {
        "colab": {
          "base_uri": "https://localhost:8080/"
        },
        "id": "vg1y_jDAJQpo",
        "outputId": "517c622c-2665-4fe9-b2d6-87d26762a6df"
      },
      "source": [
        "find_rules(my_tree, iris_data.feature_names)"
      ],
      "execution_count": null,
      "outputs": [
        {
          "output_type": "stream",
          "text": [
            " if <sepal length (cm)> <=0.8:\n",
            "  return [[35.  0.  0.]]\n",
            " else: \n",
            "  if <petal length (cm)> <=4.75:\n",
            "   return [[ 0. 34.  1.]]\n",
            "  else: \n",
            "   return [[ 0.  5. 37.]]\n"
          ],
          "name": "stdout"
        }
      ]
    },
    {
      "cell_type": "code",
      "metadata": {
        "colab": {
          "base_uri": "https://localhost:8080/"
        },
        "id": "uVoI8MZotfPr",
        "outputId": "10629950-cac1-401a-9558-368a5681948e"
      },
      "source": [
        "boston_data = datasets.load_boston()\n",
        "print(boston_data.DESCR)"
      ],
      "execution_count": null,
      "outputs": [
        {
          "output_type": "stream",
          "text": [
            ".. _boston_dataset:\n",
            "\n",
            "Boston house prices dataset\n",
            "---------------------------\n",
            "\n",
            "**Data Set Characteristics:**  \n",
            "\n",
            "    :Number of Instances: 506 \n",
            "\n",
            "    :Number of Attributes: 13 numeric/categorical predictive. Median Value (attribute 14) is usually the target.\n",
            "\n",
            "    :Attribute Information (in order):\n",
            "        - CRIM     per capita crime rate by town\n",
            "        - ZN       proportion of residential land zoned for lots over 25,000 sq.ft.\n",
            "        - INDUS    proportion of non-retail business acres per town\n",
            "        - CHAS     Charles River dummy variable (= 1 if tract bounds river; 0 otherwise)\n",
            "        - NOX      nitric oxides concentration (parts per 10 million)\n",
            "        - RM       average number of rooms per dwelling\n",
            "        - AGE      proportion of owner-occupied units built prior to 1940\n",
            "        - DIS      weighted distances to five Boston employment centres\n",
            "        - RAD      index of accessibility to radial highways\n",
            "        - TAX      full-value property-tax rate per $10,000\n",
            "        - PTRATIO  pupil-teacher ratio by town\n",
            "        - B        1000(Bk - 0.63)^2 where Bk is the proportion of blacks by town\n",
            "        - LSTAT    % lower status of the population\n",
            "        - MEDV     Median value of owner-occupied homes in $1000's\n",
            "\n",
            "    :Missing Attribute Values: None\n",
            "\n",
            "    :Creator: Harrison, D. and Rubinfeld, D.L.\n",
            "\n",
            "This is a copy of UCI ML housing dataset.\n",
            "https://archive.ics.uci.edu/ml/machine-learning-databases/housing/\n",
            "\n",
            "\n",
            "This dataset was taken from the StatLib library which is maintained at Carnegie Mellon University.\n",
            "\n",
            "The Boston house-price data of Harrison, D. and Rubinfeld, D.L. 'Hedonic\n",
            "prices and the demand for clean air', J. Environ. Economics & Management,\n",
            "vol.5, 81-102, 1978.   Used in Belsley, Kuh & Welsch, 'Regression diagnostics\n",
            "...', Wiley, 1980.   N.B. Various transformations are used in the table on\n",
            "pages 244-261 of the latter.\n",
            "\n",
            "The Boston house-price data has been used in many machine learning papers that address regression\n",
            "problems.   \n",
            "     \n",
            ".. topic:: References\n",
            "\n",
            "   - Belsley, Kuh & Welsch, 'Regression diagnostics: Identifying Influential Data and Sources of Collinearity', Wiley, 1980. 244-261.\n",
            "   - Quinlan,R. (1993). Combining Instance-Based and Model-Based Learning. In Proceedings on the Tenth International Conference of Machine Learning, 236-243, University of Massachusetts, Amherst. Morgan Kaufmann.\n",
            "\n"
          ],
          "name": "stdout"
        }
      ]
    },
    {
      "cell_type": "code",
      "metadata": {
        "id": "dOI7farpuzWw"
      },
      "source": [
        "from sklearn import svm,linear_model\n",
        "from sklearn.metrics import mean_absolute_error,classification_report\n",
        "from sklearn.pipeline import Pipeline\n",
        "from sklearn.linear_model import LinearRegression"
      ],
      "execution_count": null,
      "outputs": []
    },
    {
      "cell_type": "code",
      "metadata": {
        "colab": {
          "base_uri": "https://localhost:8080/"
        },
        "id": "NVE_ZK9ZtfSO",
        "outputId": "d1707e0f-0c98-459d-8a60-e593d7029b33"
      },
      "source": [
        "lin_svm_model = svm.LinearSVR(random_state= 42)\n",
        "lin_svm_model.fit(X_train,y_train)\n",
        "# lin_svm_pred = lin_svm_model.predict(X_test)"
      ],
      "execution_count": null,
      "outputs": [
        {
          "output_type": "stream",
          "text": [
            "/usr/local/lib/python3.7/dist-packages/sklearn/svm/_base.py:947: ConvergenceWarning: Liblinear failed to converge, increase the number of iterations.\n",
            "  \"the number of iterations.\", ConvergenceWarning)\n"
          ],
          "name": "stderr"
        },
        {
          "output_type": "execute_result",
          "data": {
            "text/plain": [
              "LinearSVR(C=1.0, dual=True, epsilon=0.0, fit_intercept=True,\n",
              "          intercept_scaling=1.0, loss='epsilon_insensitive', max_iter=1000,\n",
              "          random_state=42, tol=0.0001, verbose=0)"
            ]
          },
          "metadata": {
            "tags": []
          },
          "execution_count": 8
        }
      ]
    },
    {
      "cell_type": "code",
      "metadata": {
        "colab": {
          "base_uri": "https://localhost:8080/"
        },
        "id": "fVSI6bGOtfU8",
        "outputId": "0e6500c6-4998-4de8-873c-cefc97b67a08"
      },
      "source": [
        "print(lin_svm_model.score(X_test,y_test))"
      ],
      "execution_count": null,
      "outputs": [
        {
          "output_type": "stream",
          "text": [
            "0.948832161622023\n"
          ],
          "name": "stdout"
        }
      ]
    },
    {
      "cell_type": "code",
      "metadata": {
        "colab": {
          "base_uri": "https://localhost:8080/"
        },
        "id": "J9N0Zh6l-KXM",
        "outputId": "82bc0a60-731a-4dd8-c724-560bb2a07af1"
      },
      "source": [
        "svr_model = svm.SVR()\n",
        "svr_model.fit(X_train,y_train)\n",
        "# lin_svm_pred = lin_svm_model.predict(X_test)"
      ],
      "execution_count": null,
      "outputs": [
        {
          "output_type": "execute_result",
          "data": {
            "text/plain": [
              "SVR(C=1.0, cache_size=200, coef0=0.0, degree=3, epsilon=0.1, gamma='scale',\n",
              "    kernel='rbf', max_iter=-1, shrinking=True, tol=0.001, verbose=False)"
            ]
          },
          "metadata": {
            "tags": []
          },
          "execution_count": 10
        }
      ]
    },
    {
      "cell_type": "code",
      "metadata": {
        "colab": {
          "base_uri": "https://localhost:8080/"
        },
        "id": "ai3IF9cL-Vl_",
        "outputId": "1b7d00b1-79cd-482c-9efe-259db178924c"
      },
      "source": [
        "print(svr_model.score(X_test,y_test))"
      ],
      "execution_count": null,
      "outputs": [
        {
          "output_type": "stream",
          "text": [
            "0.9533513702061646\n"
          ],
          "name": "stdout"
        }
      ]
    },
    {
      "cell_type": "code",
      "metadata": {
        "colab": {
          "base_uri": "https://localhost:8080/"
        },
        "id": "D1JQDBuqvzKP",
        "outputId": "16ed821b-8849-4324-c7a5-6f8cf8d6fcba"
      },
      "source": [
        "lin_reg = linear_model.LinearRegression()\n",
        "lin_reg.fit(X_train,y_train)\n",
        "# lin_reg_pred = lin_reg.predict(X_test)"
      ],
      "execution_count": null,
      "outputs": [
        {
          "output_type": "execute_result",
          "data": {
            "text/plain": [
              "LinearRegression(copy_X=True, fit_intercept=True, n_jobs=None, normalize=False)"
            ]
          },
          "metadata": {
            "tags": []
          },
          "execution_count": 12
        }
      ]
    },
    {
      "cell_type": "code",
      "metadata": {
        "colab": {
          "base_uri": "https://localhost:8080/"
        },
        "id": "i-L9rYYQtfXj",
        "outputId": "aad17c75-fee4-4891-93a8-900b673eee0a"
      },
      "source": [
        "print(lin_reg.score(X_test,y_test))"
      ],
      "execution_count": null,
      "outputs": [
        {
          "output_type": "stream",
          "text": [
            "0.9487283360348984\n"
          ],
          "name": "stdout"
        }
      ]
    },
    {
      "cell_type": "markdown",
      "metadata": {
        "id": "OMkgvcDU9_4H"
      },
      "source": [
        "<font size =  10 > POLYNOMIAL FEATURES <FONT>"
      ]
    },
    {
      "cell_type": "code",
      "metadata": {
        "id": "4VoIA7WYtfbm"
      },
      "source": [
        "from sklearn.preprocessing import PolynomialFeatures"
      ],
      "execution_count": null,
      "outputs": []
    },
    {
      "cell_type": "code",
      "metadata": {
        "id": "wc9HW4CsxvX_"
      },
      "source": [
        "X = np.arange(6).reshape(2,3)"
      ],
      "execution_count": null,
      "outputs": []
    },
    {
      "cell_type": "code",
      "metadata": {
        "colab": {
          "base_uri": "https://localhost:8080/"
        },
        "id": "W0wxpmmazx1L",
        "outputId": "02b55d66-4370-49cf-b25f-6c09b9b631bf"
      },
      "source": [
        "poly = PolynomialFeatures(degree = 2)\n",
        "poly.fit_transform(X)"
      ],
      "execution_count": null,
      "outputs": [
        {
          "output_type": "execute_result",
          "data": {
            "text/plain": [
              "array([[ 1.,  0.,  1.,  2.,  0.,  0.,  0.,  1.,  2.,  4.],\n",
              "       [ 1.,  3.,  4.,  5.,  9., 12., 15., 16., 20., 25.]])"
            ]
          },
          "metadata": {
            "tags": []
          },
          "execution_count": 16
        }
      ]
    },
    {
      "cell_type": "code",
      "metadata": {
        "colab": {
          "base_uri": "https://localhost:8080/"
        },
        "id": "TXDzQhfHx8qN",
        "outputId": "d52ea373-0e4c-4a48-8b32-849f6a59b680"
      },
      "source": [
        "x = np.arange(5)\n",
        "y = x**3 + x**2- x +x\n",
        "np.stack([x,y])"
      ],
      "execution_count": null,
      "outputs": [
        {
          "output_type": "execute_result",
          "data": {
            "text/plain": [
              "array([[ 0,  1,  2,  3,  4],\n",
              "       [ 0,  2, 12, 36, 80]])"
            ]
          },
          "metadata": {
            "tags": []
          },
          "execution_count": 17
        }
      ]
    },
    {
      "cell_type": "code",
      "metadata": {
        "id": "9QldTska0cOP"
      },
      "source": [
        "model = Pipeline([('poly',PolynomialFeatures(degree=3)),\n",
        "                   ('Linear' ,LinearRegression())])"
      ],
      "execution_count": null,
      "outputs": []
    },
    {
      "cell_type": "code",
      "metadata": {
        "colab": {
          "base_uri": "https://localhost:8080/"
        },
        "id": "VYeC2duB1O8T",
        "outputId": "b5ee1a22-3d34-4d3a-df22-337ac4171a0f"
      },
      "source": [
        "model.fit(x[:,None],y)"
      ],
      "execution_count": null,
      "outputs": [
        {
          "output_type": "execute_result",
          "data": {
            "text/plain": [
              "Pipeline(memory=None,\n",
              "         steps=[('poly',\n",
              "                 PolynomialFeatures(degree=3, include_bias=True,\n",
              "                                    interaction_only=False, order='C')),\n",
              "                ('Linear',\n",
              "                 LinearRegression(copy_X=True, fit_intercept=True, n_jobs=None,\n",
              "                                  normalize=False))],\n",
              "         verbose=False)"
            ]
          },
          "metadata": {
            "tags": []
          },
          "execution_count": 19
        }
      ]
    },
    {
      "cell_type": "code",
      "metadata": {
        "colab": {
          "base_uri": "https://localhost:8080/"
        },
        "id": "-00mpUWX1kwQ",
        "outputId": "0675c4d8-df64-47f1-cf56-790367c30885"
      },
      "source": [
        "model.named_steps['Linear'].coef_"
      ],
      "execution_count": null,
      "outputs": [
        {
          "output_type": "execute_result",
          "data": {
            "text/plain": [
              "array([0.00000000e+00, 3.33066907e-14, 1.00000000e+00, 1.00000000e+00])"
            ]
          },
          "metadata": {
            "tags": []
          },
          "execution_count": 20
        }
      ]
    },
    {
      "cell_type": "markdown",
      "metadata": {
        "id": "Bj4V3EVQ6Gzh"
      },
      "source": [
        "<font size = 10 > REGULARIZATION </FONT>"
      ]
    },
    {
      "cell_type": "code",
      "metadata": {
        "id": "47mERc4d8Dq1"
      },
      "source": [
        "X_b = boston_data.data\n",
        "y_b = boston_data.target\n",
        "X_b_train,X_b_test,y_b_train,y_b_test = train_test_split(X_b,y_b,random_state= 42)"
      ],
      "execution_count": null,
      "outputs": []
    },
    {
      "cell_type": "code",
      "metadata": {
        "colab": {
          "base_uri": "https://localhost:8080/"
        },
        "id": "oKwORY0N6MWO",
        "outputId": "973deb82-97c8-4b5f-9454-d554ab9ef7c5"
      },
      "source": [
        "LIN_REG  = linear_model.LinearRegression()\n",
        "LIN_REG.fit(X_b_train,y_b_train)\n",
        "for coef,label in zip(LIN_REG.coef_,boston_data.feature_names):\n",
        "  print(\"{:10.4f}\".format(coef),label)"
      ],
      "execution_count": null,
      "outputs": [
        {
          "output_type": "stream",
          "text": [
            "   -0.1283 CRIM\n",
            "    0.0296 ZN\n",
            "    0.0489 INDUS\n",
            "    2.7735 CHAS\n",
            "  -16.2388 NOX\n",
            "    4.3688 RM\n",
            "   -0.0092 AGE\n",
            "   -1.4009 DIS\n",
            "    0.2578 RAD\n",
            "   -0.0100 TAX\n",
            "   -0.9231 PTRATIO\n",
            "    0.0132 B\n",
            "   -0.5176 LSTAT\n"
          ],
          "name": "stdout"
        }
      ]
    },
    {
      "cell_type": "markdown",
      "metadata": {
        "id": "iGHZoyZY8wey"
      },
      "source": [
        "the linear regression model leads overfitting "
      ]
    },
    {
      "cell_type": "code",
      "metadata": {
        "colab": {
          "base_uri": "https://localhost:8080/"
        },
        "id": "Dgx2MftE7Wjj",
        "outputId": "90a65cb5-3d30-4364-ea4e-9c2074200c6a"
      },
      "source": [
        "Ridge_model = linear_model.Ridge(alpha = 1)\n",
        "Ridge_model.fit(X_b_train,y_b_train)\n",
        "for coef,label in zip(Ridge_model.coef_,boston_data.feature_names):\n",
        "  print(\"{:10.4f}\".format(coef),label)"
      ],
      "execution_count": null,
      "outputs": [
        {
          "output_type": "stream",
          "text": [
            "   -0.1238 CRIM\n",
            "    0.0314 ZN\n",
            "    0.0177 INDUS\n",
            "    2.5428 CHAS\n",
            "   -8.7725 NOX\n",
            "    4.3798 RM\n",
            "   -0.0154 AGE\n",
            "   -1.2909 DIS\n",
            "    0.2441 RAD\n",
            "   -0.0108 TAX\n",
            "   -0.8335 PTRATIO\n",
            "    0.0135 B\n",
            "   -0.5344 LSTAT\n"
          ],
          "name": "stdout"
        }
      ]
    },
    {
      "cell_type": "markdown",
      "metadata": {
        "id": "_yXvOCVM9L35"
      },
      "source": [
        "the Ridge regression uses L2 norm for reducing the complexity of the model"
      ]
    },
    {
      "cell_type": "code",
      "metadata": {
        "colab": {
          "base_uri": "https://localhost:8080/"
        },
        "id": "-_lx6Vej8lhU",
        "outputId": "a3dec7a2-0e6e-4ac8-d35d-14aaae5bf32f"
      },
      "source": [
        "Lasso_model = linear_model.Lasso(alpha = 1)\n",
        "Lasso_model.fit(X_b_train,y_b_train)\n",
        "for coef,label in zip(Lasso_model.coef_,boston_data.feature_names):\n",
        "  print(\"{:10.4f}\".format(coef),label)"
      ],
      "execution_count": null,
      "outputs": [
        {
          "output_type": "stream",
          "text": [
            "   -0.0839 CRIM\n",
            "    0.0265 ZN\n",
            "   -0.0000 INDUS\n",
            "    0.0000 CHAS\n",
            "   -0.0000 NOX\n",
            "    1.5454 RM\n",
            "    0.0135 AGE\n",
            "   -0.5828 DIS\n",
            "    0.2074 RAD\n",
            "   -0.0112 TAX\n",
            "   -0.7050 PTRATIO\n",
            "    0.0120 B\n",
            "   -0.7578 LSTAT\n"
          ],
          "name": "stdout"
        }
      ]
    },
    {
      "cell_type": "markdown",
      "metadata": {
        "id": "lVEJlQ3T9cI3"
      },
      "source": [
        "Lasso model uses L1 norm for reducing the overfitting  \n",
        "and as you see some features are neglected completely"
      ]
    }
  ]
}