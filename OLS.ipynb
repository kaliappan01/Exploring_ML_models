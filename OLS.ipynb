{
  "nbformat": 4,
  "nbformat_minor": 0,
  "metadata": {
    "colab": {
      "name": "OLS.ipynb",
      "provenance": []
    },
    "kernelspec": {
      "name": "python3",
      "display_name": "Python 3"
    },
    "language_info": {
      "name": "python"
    }
  },
  "cells": [
    {
      "cell_type": "code",
      "metadata": {
        "id": "rfGXBoagEEyd",
        "colab": {
          "base_uri": "https://localhost:8080/"
        },
        "outputId": "47e7f58e-e0f2-4314-b19c-3917be0cfa4e"
      },
      "source": [
        "from sklearn.datasets import load_boston\n",
        "import numpy as np\n",
        "import pandas as pd\n",
        "import statsmodels.api as SM\n",
        "from sklearn.model_selection import train_test_split\n",
        "from sklearn.metrics import mean_squared_error\n",
        "import warnings\n",
        "warnings.filterwarnings('ignore')"
      ],
      "execution_count": 1,
      "outputs": [
        {
          "output_type": "stream",
          "text": [
            "/usr/local/lib/python3.7/dist-packages/statsmodels/tools/_testing.py:19: FutureWarning: pandas.util.testing is deprecated. Use the functions in the public API at pandas.testing instead.\n",
            "  import pandas.util.testing as tm\n"
          ],
          "name": "stderr"
        }
      ]
    },
    {
      "cell_type": "code",
      "metadata": {
        "colab": {
          "base_uri": "https://localhost:8080/"
        },
        "id": "QEDCm8PcMYsN",
        "outputId": "5e7b3af4-b9bd-49cf-ac70-457182d244fc"
      },
      "source": [
        "dataset = load_boston()\n",
        "print(dataset.DESCR)"
      ],
      "execution_count": 2,
      "outputs": [
        {
          "output_type": "stream",
          "text": [
            ".. _boston_dataset:\n",
            "\n",
            "Boston house prices dataset\n",
            "---------------------------\n",
            "\n",
            "**Data Set Characteristics:**  \n",
            "\n",
            "    :Number of Instances: 506 \n",
            "\n",
            "    :Number of Attributes: 13 numeric/categorical predictive. Median Value (attribute 14) is usually the target.\n",
            "\n",
            "    :Attribute Information (in order):\n",
            "        - CRIM     per capita crime rate by town\n",
            "        - ZN       proportion of residential land zoned for lots over 25,000 sq.ft.\n",
            "        - INDUS    proportion of non-retail business acres per town\n",
            "        - CHAS     Charles River dummy variable (= 1 if tract bounds river; 0 otherwise)\n",
            "        - NOX      nitric oxides concentration (parts per 10 million)\n",
            "        - RM       average number of rooms per dwelling\n",
            "        - AGE      proportion of owner-occupied units built prior to 1940\n",
            "        - DIS      weighted distances to five Boston employment centres\n",
            "        - RAD      index of accessibility to radial highways\n",
            "        - TAX      full-value property-tax rate per $10,000\n",
            "        - PTRATIO  pupil-teacher ratio by town\n",
            "        - B        1000(Bk - 0.63)^2 where Bk is the proportion of blacks by town\n",
            "        - LSTAT    % lower status of the population\n",
            "        - MEDV     Median value of owner-occupied homes in $1000's\n",
            "\n",
            "    :Missing Attribute Values: None\n",
            "\n",
            "    :Creator: Harrison, D. and Rubinfeld, D.L.\n",
            "\n",
            "This is a copy of UCI ML housing dataset.\n",
            "https://archive.ics.uci.edu/ml/machine-learning-databases/housing/\n",
            "\n",
            "\n",
            "This dataset was taken from the StatLib library which is maintained at Carnegie Mellon University.\n",
            "\n",
            "The Boston house-price data of Harrison, D. and Rubinfeld, D.L. 'Hedonic\n",
            "prices and the demand for clean air', J. Environ. Economics & Management,\n",
            "vol.5, 81-102, 1978.   Used in Belsley, Kuh & Welsch, 'Regression diagnostics\n",
            "...', Wiley, 1980.   N.B. Various transformations are used in the table on\n",
            "pages 244-261 of the latter.\n",
            "\n",
            "The Boston house-price data has been used in many machine learning papers that address regression\n",
            "problems.   \n",
            "     \n",
            ".. topic:: References\n",
            "\n",
            "   - Belsley, Kuh & Welsch, 'Regression diagnostics: Identifying Influential Data and Sources of Collinearity', Wiley, 1980. 244-261.\n",
            "   - Quinlan,R. (1993). Combining Instance-Based and Model-Based Learning. In Proceedings on the Tenth International Conference of Machine Learning, 236-243, University of Massachusetts, Amherst. Morgan Kaufmann.\n",
            "\n"
          ],
          "name": "stdout"
        }
      ]
    },
    {
      "cell_type": "code",
      "metadata": {
        "colab": {
          "base_uri": "https://localhost:8080/"
        },
        "id": "zPtiKHrXM7xs",
        "outputId": "195531eb-6e07-436a-8f4f-726cde2e2dc4"
      },
      "source": [
        "train_data,test_data,train_label, test_label = train_test_split(dataset.data, dataset.target,test_size = 0.3)\n",
        "train_data[:5]"
      ],
      "execution_count": 3,
      "outputs": [
        {
          "output_type": "execute_result",
          "data": {
            "text/plain": [
              "array([[1.10874e+01, 0.00000e+00, 1.81000e+01, 0.00000e+00, 7.18000e-01,\n",
              "        6.41100e+00, 1.00000e+02, 1.85890e+00, 2.40000e+01, 6.66000e+02,\n",
              "        2.02000e+01, 3.18750e+02, 1.50200e+01],\n",
              "       [1.12658e+00, 0.00000e+00, 1.95800e+01, 1.00000e+00, 8.71000e-01,\n",
              "        5.01200e+00, 8.80000e+01, 1.61020e+00, 5.00000e+00, 4.03000e+02,\n",
              "        1.47000e+01, 3.43280e+02, 1.21200e+01],\n",
              "       [3.96100e-02, 0.00000e+00, 5.19000e+00, 0.00000e+00, 5.15000e-01,\n",
              "        6.03700e+00, 3.45000e+01, 5.98530e+00, 5.00000e+00, 2.24000e+02,\n",
              "        2.02000e+01, 3.96900e+02, 8.01000e+00],\n",
              "       [4.22239e+00, 0.00000e+00, 1.81000e+01, 1.00000e+00, 7.70000e-01,\n",
              "        5.80300e+00, 8.90000e+01, 1.90470e+00, 2.40000e+01, 6.66000e+02,\n",
              "        2.02000e+01, 3.53040e+02, 1.46400e+01],\n",
              "       [7.85700e-01, 2.00000e+01, 3.97000e+00, 0.00000e+00, 6.47000e-01,\n",
              "        7.01400e+00, 8.46000e+01, 2.13290e+00, 5.00000e+00, 2.64000e+02,\n",
              "        1.30000e+01, 3.84070e+02, 1.47900e+01]])"
            ]
          },
          "metadata": {
            "tags": []
          },
          "execution_count": 3
        }
      ]
    },
    {
      "cell_type": "code",
      "metadata": {
        "colab": {
          "base_uri": "https://localhost:8080/"
        },
        "id": "eWYGAl3JNYy4",
        "outputId": "559a7459-6f99-4821-fe8f-5a69768ccb09"
      },
      "source": [
        "train_data, test_data = SM.add_constant(train_data), SM.add_constant(test_data)\n",
        "train_data[:5]"
      ],
      "execution_count": 4,
      "outputs": [
        {
          "output_type": "execute_result",
          "data": {
            "text/plain": [
              "array([[1.00000e+00, 1.10874e+01, 0.00000e+00, 1.81000e+01, 0.00000e+00,\n",
              "        7.18000e-01, 6.41100e+00, 1.00000e+02, 1.85890e+00, 2.40000e+01,\n",
              "        6.66000e+02, 2.02000e+01, 3.18750e+02, 1.50200e+01],\n",
              "       [1.00000e+00, 1.12658e+00, 0.00000e+00, 1.95800e+01, 1.00000e+00,\n",
              "        8.71000e-01, 5.01200e+00, 8.80000e+01, 1.61020e+00, 5.00000e+00,\n",
              "        4.03000e+02, 1.47000e+01, 3.43280e+02, 1.21200e+01],\n",
              "       [1.00000e+00, 3.96100e-02, 0.00000e+00, 5.19000e+00, 0.00000e+00,\n",
              "        5.15000e-01, 6.03700e+00, 3.45000e+01, 5.98530e+00, 5.00000e+00,\n",
              "        2.24000e+02, 2.02000e+01, 3.96900e+02, 8.01000e+00],\n",
              "       [1.00000e+00, 4.22239e+00, 0.00000e+00, 1.81000e+01, 1.00000e+00,\n",
              "        7.70000e-01, 5.80300e+00, 8.90000e+01, 1.90470e+00, 2.40000e+01,\n",
              "        6.66000e+02, 2.02000e+01, 3.53040e+02, 1.46400e+01],\n",
              "       [1.00000e+00, 7.85700e-01, 2.00000e+01, 3.97000e+00, 0.00000e+00,\n",
              "        6.47000e-01, 7.01400e+00, 8.46000e+01, 2.13290e+00, 5.00000e+00,\n",
              "        2.64000e+02, 1.30000e+01, 3.84070e+02, 1.47900e+01]])"
            ]
          },
          "metadata": {
            "tags": []
          },
          "execution_count": 4
        }
      ]
    },
    {
      "cell_type": "markdown",
      "metadata": {
        "id": "_4YGltPrOJLe"
      },
      "source": [
        "A feature with constant value 1 is added for all rows"
      ]
    },
    {
      "cell_type": "code",
      "metadata": {
        "colab": {
          "base_uri": "https://localhost:8080/"
        },
        "id": "wF4JPsL8NQEv",
        "outputId": "1c89f933-3ed0-42a2-c130-b8f08360e828"
      },
      "source": [
        "ols1 = SM.OLS(train_label,train_data)\n",
        "model1 = ols1.fit()\n",
        "model1.params"
      ],
      "execution_count": 5,
      "outputs": [
        {
          "output_type": "execute_result",
          "data": {
            "text/plain": [
              "array([ 3.26622611e+01, -1.23387413e-01,  2.94537183e-02,  3.91261258e-02,\n",
              "        4.03084404e+00, -1.41818694e+01,  3.93941942e+00, -3.50456087e-03,\n",
              "       -1.23537966e+00,  2.73267586e-01, -9.84628282e-03, -9.29739461e-01,\n",
              "        9.02779519e-03, -5.83773115e-01])"
            ]
          },
          "metadata": {
            "tags": []
          },
          "execution_count": 5
        }
      ]
    },
    {
      "cell_type": "code",
      "metadata": {
        "colab": {
          "base_uri": "https://localhost:8080/"
        },
        "id": "7_xCnP_aMw4y",
        "outputId": "cecc30dc-89a8-48bb-af39-bbc9061f562f"
      },
      "source": [
        "print(model1.summary())"
      ],
      "execution_count": 6,
      "outputs": [
        {
          "output_type": "stream",
          "text": [
            "                            OLS Regression Results                            \n",
            "==============================================================================\n",
            "Dep. Variable:                      y   R-squared:                       0.741\n",
            "Model:                            OLS   Adj. R-squared:                  0.731\n",
            "Method:                 Least Squares   F-statistic:                     74.91\n",
            "Date:                Fri, 02 Jul 2021   Prob (F-statistic):           2.21e-91\n",
            "Time:                        08:32:58   Log-Likelihood:                -1042.7\n",
            "No. Observations:                 354   AIC:                             2113.\n",
            "Df Residuals:                     340   BIC:                             2168.\n",
            "Df Model:                          13                                         \n",
            "Covariance Type:            nonrobust                                         \n",
            "==============================================================================\n",
            "                 coef    std err          t      P>|t|      [0.025      0.975]\n",
            "------------------------------------------------------------------------------\n",
            "const         32.6623      6.204      5.265      0.000      20.459      44.865\n",
            "x1            -0.1234      0.036     -3.439      0.001      -0.194      -0.053\n",
            "x2             0.0295      0.017      1.776      0.077      -0.003       0.062\n",
            "x3             0.0391      0.071      0.552      0.581      -0.100       0.178\n",
            "x4             4.0308      0.978      4.122      0.000       2.107       5.954\n",
            "x5           -14.1819      4.465     -3.176      0.002     -22.964      -5.400\n",
            "x6             3.9394      0.509      7.743      0.000       2.939       4.940\n",
            "x7            -0.0035      0.016     -0.222      0.824      -0.035       0.028\n",
            "x8            -1.2354      0.242     -5.097      0.000      -1.712      -0.759\n",
            "x9             0.2733      0.080      3.436      0.001       0.117       0.430\n",
            "x10           -0.0098      0.004     -2.210      0.028      -0.019      -0.001\n",
            "x11           -0.9297      0.159     -5.842      0.000      -1.243      -0.617\n",
            "x12            0.0090      0.003      2.856      0.005       0.003       0.015\n",
            "x13           -0.5838      0.061     -9.544      0.000      -0.704      -0.463\n",
            "==============================================================================\n",
            "Omnibus:                      125.649   Durbin-Watson:                   1.936\n",
            "Prob(Omnibus):                  0.000   Jarque-Bera (JB):              484.397\n",
            "Skew:                           1.525   Prob(JB):                    6.53e-106\n",
            "Kurtosis:                       7.852   Cond. No.                     1.53e+04\n",
            "==============================================================================\n",
            "\n",
            "Warnings:\n",
            "[1] Standard Errors assume that the covariance matrix of the errors is correctly specified.\n",
            "[2] The condition number is large, 1.53e+04. This might indicate that there are\n",
            "strong multicollinearity or other numerical problems.\n"
          ],
          "name": "stdout"
        }
      ]
    },
    {
      "cell_type": "code",
      "metadata": {
        "colab": {
          "base_uri": "https://localhost:8080/"
        },
        "id": "eisMC54qTF9L",
        "outputId": "9a527f6b-23b9-461b-d7a5-75b332b80367"
      },
      "source": [
        "pred1 = model1.predict(test_data)\n",
        "mean_squared_error(test_label, pred1)"
      ],
      "execution_count": 7,
      "outputs": [
        {
          "output_type": "execute_result",
          "data": {
            "text/plain": [
              "24.96474018384149"
            ]
          },
          "metadata": {
            "tags": []
          },
          "execution_count": 7
        }
      ]
    },
    {
      "cell_type": "markdown",
      "metadata": {
        "id": "S7USf8kzRhcU"
      },
      "source": [
        "We can see the features x3 & x7 show abnormal behavior for t-test"
      ]
    },
    {
      "cell_type": "code",
      "metadata": {
        "colab": {
          "base_uri": "https://localhost:8080/"
        },
        "id": "OixW1hU_TbGy",
        "outputId": "04786a87-283c-405b-c3ff-ad6259775b05"
      },
      "source": [
        "ols2 = SM.OLS(train_label,np.delete(train_data,[3,7],axis=1))\n",
        "model2 = ols2.fit()\n",
        "model2.params"
      ],
      "execution_count": 14,
      "outputs": [
        {
          "output_type": "execute_result",
          "data": {
            "text/plain": [
              "array([ 3.25515323e+01, -1.24179280e-01,  2.88901347e-02,  4.07242000e+00,\n",
              "       -1.37672421e+01,  3.89105552e+00, -1.24130738e+00,  2.63990629e-01,\n",
              "       -8.89334785e-03, -9.21352596e-01,  8.94330699e-03, -5.84891905e-01])"
            ]
          },
          "metadata": {
            "tags": []
          },
          "execution_count": 14
        }
      ]
    },
    {
      "cell_type": "code",
      "metadata": {
        "colab": {
          "base_uri": "https://localhost:8080/"
        },
        "id": "V-ZmqNNyTbPM",
        "outputId": "524349ca-ab97-477e-bb7f-50e48dd2d338"
      },
      "source": [
        "print(model2.summary())"
      ],
      "execution_count": 15,
      "outputs": [
        {
          "output_type": "stream",
          "text": [
            "                            OLS Regression Results                            \n",
            "==============================================================================\n",
            "Dep. Variable:                      y   R-squared:                       0.741\n",
            "Model:                            OLS   Adj. R-squared:                  0.733\n",
            "Method:                 Least Squares   F-statistic:                     88.92\n",
            "Date:                Fri, 02 Jul 2021   Prob (F-statistic):           2.98e-93\n",
            "Time:                        08:33:32   Log-Likelihood:                -1042.9\n",
            "No. Observations:                 354   AIC:                             2110.\n",
            "Df Residuals:                     342   BIC:                             2156.\n",
            "Df Model:                          11                                         \n",
            "Covariance Type:            nonrobust                                         \n",
            "==============================================================================\n",
            "                 coef    std err          t      P>|t|      [0.025      0.975]\n",
            "------------------------------------------------------------------------------\n",
            "const         32.5515      6.120      5.319      0.000      20.514      44.589\n",
            "x1            -0.1242      0.036     -3.473      0.001      -0.195      -0.054\n",
            "x2             0.0289      0.016      1.768      0.078      -0.003       0.061\n",
            "x3             4.0724      0.967      4.210      0.000       2.170       5.975\n",
            "x4           -13.7672      4.114     -3.346      0.001     -21.860      -5.675\n",
            "x5             3.8911      0.489      7.953      0.000       2.929       4.853\n",
            "x6            -1.2413      0.223     -5.555      0.000      -1.681      -0.802\n",
            "x7             0.2640      0.077      3.428      0.001       0.113       0.415\n",
            "x8            -0.0089      0.004     -2.169      0.031      -0.017      -0.001\n",
            "x9            -0.9214      0.156     -5.921      0.000      -1.227      -0.615\n",
            "x10            0.0089      0.003      2.847      0.005       0.003       0.015\n",
            "x11           -0.5849      0.057    -10.192      0.000      -0.698      -0.472\n",
            "==============================================================================\n",
            "Omnibus:                      124.588   Durbin-Watson:                   1.933\n",
            "Prob(Omnibus):                  0.000   Jarque-Bera (JB):              475.860\n",
            "Skew:                           1.514   Prob(JB):                    4.66e-104\n",
            "Kurtosis:                       7.806   Cond. No.                     1.48e+04\n",
            "==============================================================================\n",
            "\n",
            "Warnings:\n",
            "[1] Standard Errors assume that the covariance matrix of the errors is correctly specified.\n",
            "[2] The condition number is large, 1.48e+04. This might indicate that there are\n",
            "strong multicollinearity or other numerical problems.\n"
          ],
          "name": "stdout"
        }
      ]
    },
    {
      "cell_type": "markdown",
      "metadata": {
        "id": "epPpwMaeUmKi"
      },
      "source": [
        "We get a lower value for both AIC & BIC here  which indicates the model's improved predictive ability"
      ]
    },
    {
      "cell_type": "code",
      "metadata": {
        "colab": {
          "base_uri": "https://localhost:8080/"
        },
        "id": "os2D9OgKT9QD",
        "outputId": "b6b1c294-1298-4ae2-a9f8-d8a99a09e9ea"
      },
      "source": [
        "pred2 = model2.predict(np.delete(test_data,[3,7],axis=1))\n",
        "mean_squared_error(test_label, pred2)"
      ],
      "execution_count": 16,
      "outputs": [
        {
          "output_type": "execute_result",
          "data": {
            "text/plain": [
              "24.889895141067154"
            ]
          },
          "metadata": {
            "tags": []
          },
          "execution_count": 16
        }
      ]
    },
    {
      "cell_type": "code",
      "metadata": {
        "colab": {
          "base_uri": "https://localhost:8080/"
        },
        "id": "muHNwGzdU1yD",
        "outputId": "141f07b6-0b1c-4e97-eb40-4af600e6a4bd"
      },
      "source": [
        "model1.aic > model2.aic"
      ],
      "execution_count": 17,
      "outputs": [
        {
          "output_type": "execute_result",
          "data": {
            "text/plain": [
              "True"
            ]
          },
          "metadata": {
            "tags": []
          },
          "execution_count": 17
        }
      ]
    },
    {
      "cell_type": "code",
      "metadata": {
        "colab": {
          "base_uri": "https://localhost:8080/"
        },
        "id": "kFjfa3aXUn7C",
        "outputId": "2c074c86-d944-4959-f016-b5fe54e3f2d1"
      },
      "source": [
        "print(\"No of times model1 is likely to minimize information loss than model2 : \",np.exp((model2.aic-model1.aic)/2))"
      ],
      "execution_count": 18,
      "outputs": [
        {
          "output_type": "stream",
          "text": [
            "No of times model1 is likely to minimize information loss than model2 :  0.16373313277830023\n"
          ],
          "name": "stdout"
        }
      ]
    },
    {
      "cell_type": "code",
      "metadata": {
        "colab": {
          "base_uri": "https://localhost:8080/"
        },
        "id": "K2a3XJc4VPuK",
        "outputId": "80dc1afb-7686-486f-9bc5-db8f4b3b1d6e"
      },
      "source": [
        "print(\"No of times model2 is likely to minimize information loss than model1 : \",np.exp((model1.aic-model2.aic)/2))"
      ],
      "execution_count": 19,
      "outputs": [
        {
          "output_type": "stream",
          "text": [
            "No of times model2 is likely to minimize information loss than model1 :  6.1074993376815865\n"
          ],
          "name": "stdout"
        }
      ]
    },
    {
      "cell_type": "markdown",
      "metadata": {
        "id": "HcG8F80_VXiF"
      },
      "source": [
        "Thus the removal features 3 & 7 proved beneficial"
      ]
    }
  ]
}